{
 "cells": [
  {
   "cell_type": "markdown",
   "id": "7a5a9ee7",
   "metadata": {},
   "source": [
    "# Section 1: ASK"
   ]
  },
  {
   "cell_type": "markdown",
   "id": "c6f4b331",
   "metadata": {},
   "source": [
    "## What is the problem you are trying to solve?"
   ]
  },
  {
   "cell_type": "markdown",
   "id": "c1f67b2b",
   "metadata": {},
   "source": [
    "Business Objective: To boost the number of annual memberships by converting casual riders to annual members."
   ]
  },
  {
   "cell_type": "markdown",
   "id": "fab96423",
   "metadata": {},
   "source": [
    "## How can your insights drive business decisions?"
   ]
  },
  {
   "cell_type": "markdown",
   "id": "1852aadb",
   "metadata": {},
   "source": [
    "With the help of visualizations and important findings, an attempt will be made to determine patterns in how annual members use bicycles differently from casual riders. This information will be used to provide recommendations that the company can take into account in an effort to increase annual memberships."
   ]
  },
  {
   "cell_type": "markdown",
   "id": "a954fdab",
   "metadata": {},
   "source": [
    "# Section 2: PREPARE"
   ]
  },
  {
   "cell_type": "markdown",
   "id": "5ab5ea95",
   "metadata": {},
   "source": [
    "The dataset required for this business objective should be of the past 12 months. Here, we are considering data from January 2022 till December 2022."
   ]
  },
  {
   "cell_type": "markdown",
   "id": "b21445f3",
   "metadata": {},
   "source": [
    "Credibility of the data is ensured by the fact that it was made available by Motivate International Inc. under the proper license. You can investigate how various client types utilize Cyclistic bikes using this open data.\n",
    "\n",
    "The data file had various folders for each month of a certain year, and quarterly data organized by year was also made available.\n",
    "\n",
    "Since we could only take into account information from the previous 12 months, I retrieved the necessary csv files and put them all in one folder for better access and use."
   ]
  },
  {
   "cell_type": "markdown",
   "id": "f73745a4",
   "metadata": {},
   "source": [
    "# Section 3: PROCESS"
   ]
  },
  {
   "cell_type": "markdown",
   "id": "64b13fd1",
   "metadata": {},
   "source": [
    "For working with data, I favor Python since it is more widely available and simpler to use.\n",
    "\n",
    "Any analysis should begin with the import of the necessary libraries into the notebook.\n",
    "\n",
    "Some of the important libraries are:\n",
    "\n",
    "* Pandas - Pandas allows importing data from various file formats such as comma-separated values (CSV), JSON, SQL, Excel. Pandas allows various data manipulation operations such as merging, reshaping, selecting, as well as data cleaning, and data wrangling features.\n",
    "* Numpy - It can be used to perform a number of mathematical operations like trigonometric, statistical, and algebraic on arrays.\n",
    "* Matplotlib and Seaborn - It is used to create graphical analysis of the data.\n",
    "* Datetime - These classes provide a number of functions to deal with dates, times and time intervals."
   ]
  },
  {
   "cell_type": "markdown",
   "id": "0a0f148b",
   "metadata": {},
   "source": [
    "# Section 4: ANALYSIS\n",
    "\n"
   ]
  },
  {
   "cell_type": "markdown",
   "id": "e5793cc2",
   "metadata": {},
   "source": [
    "It is crucial to aggregate, organize, and arrange the data after it has been cleaned. Here we need to perform calculations(descriptive analysis) and understand the trends present in the data."
   ]
  },
  {
   "cell_type": "markdown",
   "id": "200d5516",
   "metadata": {},
   "source": [
    "# Section 5: SHARE"
   ]
  },
  {
   "cell_type": "markdown",
   "id": "fd746387",
   "metadata": {},
   "source": [
    "To plot visuals, we employ python tools like seaborn and matplotlib.\n",
    "\n",
    "Visualizations allow us to see that the proportion of casual riders to annual members is roughly equal. A total of 59.8% of the population are annual members."
   ]
  },
  {
   "cell_type": "markdown",
   "id": "447a0235",
   "metadata": {},
   "source": [
    "# Section 6: ACT"
   ]
  },
  {
   "cell_type": "markdown",
   "id": "5f888b1b",
   "metadata": {},
   "source": [
    "* 1. Based on the analyses, it can be seen that there are more annual riders than annual members. We can raise the cost of casual rides (which will help bring in more money initially) while simultaneously lowering the annual membership fee. More riders will become annual members as a result of this.\n",
    "* 2. As seen, Fridays are the day when most casual bikers ride. To draw customers, we can offer exclusive weekend discounts on yearly memberships. At the same time, we can promise annual membership holders that bikes will be available on weekends, but we can't promise the same to casual riders.\n",
    "* 3. By making the entire process simple and available online, we can help speed up the process of obtaining an annual membership. Conversely, casual cyclists should get their bikes from bike shops. Although this may encourage some customers to sign up for annual memberships, it will ultimately damage the company's reputation. So we should make an effort to avoid falling for this anti-pattern."
   ]
  },
  {
   "cell_type": "code",
   "execution_count": null,
   "id": "a97b452a",
   "metadata": {},
   "outputs": [],
   "source": []
  }
 ],
 "metadata": {
  "kernelspec": {
   "display_name": "Python 3 (ipykernel)",
   "language": "python",
   "name": "python3"
  },
  "language_info": {
   "codemirror_mode": {
    "name": "ipython",
    "version": 3
   },
   "file_extension": ".py",
   "mimetype": "text/x-python",
   "name": "python",
   "nbconvert_exporter": "python",
   "pygments_lexer": "ipython3",
   "version": "3.9.13"
  }
 },
 "nbformat": 4,
 "nbformat_minor": 5
}
