{
 "cells": [
  {
   "cell_type": "code",
   "execution_count": 1,
   "id": "679b9d52",
   "metadata": {},
   "outputs": [],
   "source": [
    "#Import libraries\n",
    "\n",
    "import pandas as pd\n",
    "import numpy as np\n",
    "import matplotlib.pyplot as plt\n",
    "import seaborn as sns\n",
    "import datetime"
   ]
  },
  {
   "cell_type": "code",
   "execution_count": 2,
   "id": "4103ca61",
   "metadata": {},
   "outputs": [],
   "source": [
    "#Importing the files\n",
    "\n",
    "case_file_1 = pd.read_csv(\"C:\\\\Users\\\\Daniel\\\\Desktop\\\\Case Study Roadmap\\\\202112-divvy-tripdata.csv\")\n",
    "case_file_2 = pd.read_csv(\"C:\\\\Users\\\\Daniel\\\\Desktop\\\\Case Study Roadmap\\\\202201-divvy-tripdata.csv\")\n",
    "case_file_3 = pd.read_csv(\"C:\\\\Users\\\\Daniel\\\\Desktop\\\\Case Study Roadmap\\\\202202-divvy-tripdata.csv\")\n",
    "case_file_4 = pd.read_csv(\"C:\\\\Users\\\\Daniel\\\\Desktop\\\\Case Study Roadmap\\\\202203-divvy-tripdata.csv\")\n",
    "case_file_5 = pd.read_csv(\"C:\\\\Users\\\\Daniel\\\\Desktop\\\\Case Study Roadmap\\\\202204-divvy-tripdata.csv\")\n",
    "case_file_6 = pd.read_csv(\"C:\\\\Users\\\\Daniel\\\\Desktop\\\\Case Study Roadmap\\\\202205-divvy-tripdata.csv\")\n",
    "case_file_7 = pd.read_csv(\"C:\\\\Users\\\\Daniel\\\\Desktop\\\\Case Study Roadmap\\\\202206-divvy-tripdata.csv\")\n",
    "case_file_8 = pd.read_csv(\"C:\\\\Users\\\\Daniel\\\\Desktop\\\\Case Study Roadmap\\\\202207-divvy-tripdata.csv\")\n",
    "case_file_9 = pd.read_csv(\"C:\\\\Users\\\\Daniel\\\\Desktop\\\\Case Study Roadmap\\\\202208-divvy-tripdata.csv\")\n",
    "case_file_10 = pd.read_csv(\"C:\\\\Users\\\\Daniel\\\\Desktop\\\\Case Study Roadmap\\\\202209-divvy-tripdata.csv\")\n",
    "case_file_11 = pd.read_csv(\"C:\\\\Users\\\\Daniel\\\\Desktop\\\\Case Study Roadmap\\\\202210-divvy-tripdata.csv\")\n",
    "case_file_12 = pd.read_csv(\"C:\\\\Users\\\\Daniel\\\\Desktop\\\\Case Study Roadmap\\\\202211-divvy-tripdata.csv\")\n"
   ]
  },
  {
   "cell_type": "code",
   "execution_count": 3,
   "id": "f982775c",
   "metadata": {},
   "outputs": [],
   "source": [
    "# Merging all the dataframes into a single dataframe\n",
    "\n",
    "all_dfs = [case_file_1, case_file_2, case_file_3, case_file_4, case_file_5, case_file_6, case_file_7, case_file_8, case_file_9, case_file_10, case_file_11, case_file_12]\n",
    "case_file = pd.concat(all_dfs)\n",
    "df = case_file"
   ]
  },
  {
   "cell_type": "code",
   "execution_count": 4,
   "id": "e1ba33ce",
   "metadata": {},
   "outputs": [
    {
     "data": {
      "text/html": [
       "<div>\n",
       "<style scoped>\n",
       "    .dataframe tbody tr th:only-of-type {\n",
       "        vertical-align: middle;\n",
       "    }\n",
       "\n",
       "    .dataframe tbody tr th {\n",
       "        vertical-align: top;\n",
       "    }\n",
       "\n",
       "    .dataframe thead th {\n",
       "        text-align: right;\n",
       "    }\n",
       "</style>\n",
       "<table border=\"1\" class=\"dataframe\">\n",
       "  <thead>\n",
       "    <tr style=\"text-align: right;\">\n",
       "      <th></th>\n",
       "      <th>ride_id</th>\n",
       "      <th>rideable_type</th>\n",
       "      <th>started_at</th>\n",
       "      <th>ended_at</th>\n",
       "      <th>start_station_name</th>\n",
       "      <th>start_station_id</th>\n",
       "      <th>end_station_name</th>\n",
       "      <th>end_station_id</th>\n",
       "      <th>start_lat</th>\n",
       "      <th>start_lng</th>\n",
       "      <th>end_lat</th>\n",
       "      <th>end_lng</th>\n",
       "      <th>member_casual</th>\n",
       "    </tr>\n",
       "  </thead>\n",
       "  <tbody>\n",
       "    <tr>\n",
       "      <th>0</th>\n",
       "      <td>46F8167220E4431F</td>\n",
       "      <td>electric_bike</td>\n",
       "      <td>2021-12-07 15:06:07</td>\n",
       "      <td>2021-12-07 15:13:42</td>\n",
       "      <td>Laflin St &amp; Cullerton St</td>\n",
       "      <td>13307</td>\n",
       "      <td>Morgan St &amp; Polk St</td>\n",
       "      <td>TA1307000130</td>\n",
       "      <td>41.854833</td>\n",
       "      <td>-87.663660</td>\n",
       "      <td>41.871969</td>\n",
       "      <td>-87.650965</td>\n",
       "      <td>member</td>\n",
       "    </tr>\n",
       "    <tr>\n",
       "      <th>1</th>\n",
       "      <td>73A77762838B32FD</td>\n",
       "      <td>electric_bike</td>\n",
       "      <td>2021-12-11 03:43:29</td>\n",
       "      <td>2021-12-11 04:10:23</td>\n",
       "      <td>LaSalle Dr &amp; Huron St</td>\n",
       "      <td>KP1705001026</td>\n",
       "      <td>Clarendon Ave &amp; Leland Ave</td>\n",
       "      <td>TA1307000119</td>\n",
       "      <td>41.894405</td>\n",
       "      <td>-87.632331</td>\n",
       "      <td>41.967968</td>\n",
       "      <td>-87.650001</td>\n",
       "      <td>casual</td>\n",
       "    </tr>\n",
       "    <tr>\n",
       "      <th>2</th>\n",
       "      <td>4CF42452054F59C5</td>\n",
       "      <td>electric_bike</td>\n",
       "      <td>2021-12-15 23:10:28</td>\n",
       "      <td>2021-12-15 23:23:14</td>\n",
       "      <td>Halsted St &amp; North Branch St</td>\n",
       "      <td>KA1504000117</td>\n",
       "      <td>Broadway &amp; Barry Ave</td>\n",
       "      <td>13137</td>\n",
       "      <td>41.899357</td>\n",
       "      <td>-87.648522</td>\n",
       "      <td>41.937582</td>\n",
       "      <td>-87.644098</td>\n",
       "      <td>member</td>\n",
       "    </tr>\n",
       "    <tr>\n",
       "      <th>3</th>\n",
       "      <td>3278BA87BF698339</td>\n",
       "      <td>classic_bike</td>\n",
       "      <td>2021-12-26 16:16:10</td>\n",
       "      <td>2021-12-26 16:30:53</td>\n",
       "      <td>Halsted St &amp; North Branch St</td>\n",
       "      <td>KA1504000117</td>\n",
       "      <td>LaSalle Dr &amp; Huron St</td>\n",
       "      <td>KP1705001026</td>\n",
       "      <td>41.899390</td>\n",
       "      <td>-87.648545</td>\n",
       "      <td>41.894877</td>\n",
       "      <td>-87.632326</td>\n",
       "      <td>member</td>\n",
       "    </tr>\n",
       "    <tr>\n",
       "      <th>4</th>\n",
       "      <td>6FF54232576A3B73</td>\n",
       "      <td>electric_bike</td>\n",
       "      <td>2021-12-30 11:31:05</td>\n",
       "      <td>2021-12-30 11:51:21</td>\n",
       "      <td>Leavitt St &amp; Chicago Ave</td>\n",
       "      <td>18058</td>\n",
       "      <td>Clark St &amp; Drummond Pl</td>\n",
       "      <td>TA1307000142</td>\n",
       "      <td>41.895579</td>\n",
       "      <td>-87.682024</td>\n",
       "      <td>41.931248</td>\n",
       "      <td>-87.644336</td>\n",
       "      <td>member</td>\n",
       "    </tr>\n",
       "    <tr>\n",
       "      <th>...</th>\n",
       "      <td>...</td>\n",
       "      <td>...</td>\n",
       "      <td>...</td>\n",
       "      <td>...</td>\n",
       "      <td>...</td>\n",
       "      <td>...</td>\n",
       "      <td>...</td>\n",
       "      <td>...</td>\n",
       "      <td>...</td>\n",
       "      <td>...</td>\n",
       "      <td>...</td>\n",
       "      <td>...</td>\n",
       "      <td>...</td>\n",
       "    </tr>\n",
       "    <tr>\n",
       "      <th>337730</th>\n",
       "      <td>C349E243A9BAA6F7</td>\n",
       "      <td>electric_bike</td>\n",
       "      <td>2022-11-25 11:19:52</td>\n",
       "      <td>2022-11-25 11:31:50</td>\n",
       "      <td>Wabash Ave &amp; Grand Ave</td>\n",
       "      <td>TA1307000117</td>\n",
       "      <td>NaN</td>\n",
       "      <td>NaN</td>\n",
       "      <td>41.891836</td>\n",
       "      <td>-87.626806</td>\n",
       "      <td>41.890000</td>\n",
       "      <td>-87.620000</td>\n",
       "      <td>member</td>\n",
       "    </tr>\n",
       "    <tr>\n",
       "      <th>337731</th>\n",
       "      <td>B0B4E85DA43A9194</td>\n",
       "      <td>classic_bike</td>\n",
       "      <td>2022-11-22 16:57:53</td>\n",
       "      <td>2022-11-22 17:31:29</td>\n",
       "      <td>Franklin St &amp; Jackson Blvd</td>\n",
       "      <td>TA1305000025</td>\n",
       "      <td>Sheffield Ave &amp; Wrightwood Ave</td>\n",
       "      <td>TA1309000023</td>\n",
       "      <td>41.877708</td>\n",
       "      <td>-87.635321</td>\n",
       "      <td>41.928712</td>\n",
       "      <td>-87.653833</td>\n",
       "      <td>casual</td>\n",
       "    </tr>\n",
       "    <tr>\n",
       "      <th>337732</th>\n",
       "      <td>8D148DD47B59530B</td>\n",
       "      <td>classic_bike</td>\n",
       "      <td>2022-11-06 13:04:05</td>\n",
       "      <td>2022-11-06 13:13:33</td>\n",
       "      <td>Michigan Ave &amp; Ida B Wells Dr</td>\n",
       "      <td>TA1305000010</td>\n",
       "      <td>Shedd Aquarium</td>\n",
       "      <td>15544</td>\n",
       "      <td>41.876243</td>\n",
       "      <td>-87.624426</td>\n",
       "      <td>41.867226</td>\n",
       "      <td>-87.615355</td>\n",
       "      <td>casual</td>\n",
       "    </tr>\n",
       "    <tr>\n",
       "      <th>337733</th>\n",
       "      <td>0D1170BA18FD33D1</td>\n",
       "      <td>classic_bike</td>\n",
       "      <td>2022-11-06 09:41:29</td>\n",
       "      <td>2022-11-06 15:17:17</td>\n",
       "      <td>Halsted St &amp; 18th St</td>\n",
       "      <td>13099</td>\n",
       "      <td>Shedd Aquarium</td>\n",
       "      <td>15544</td>\n",
       "      <td>41.857506</td>\n",
       "      <td>-87.645991</td>\n",
       "      <td>41.867226</td>\n",
       "      <td>-87.615355</td>\n",
       "      <td>casual</td>\n",
       "    </tr>\n",
       "    <tr>\n",
       "      <th>337734</th>\n",
       "      <td>09B20DC75B5EA1E0</td>\n",
       "      <td>electric_bike</td>\n",
       "      <td>2022-11-26 11:59:28</td>\n",
       "      <td>2022-11-26 12:31:04</td>\n",
       "      <td>Michigan Ave &amp; Ida B Wells Dr</td>\n",
       "      <td>TA1305000010</td>\n",
       "      <td>Shedd Aquarium</td>\n",
       "      <td>15544</td>\n",
       "      <td>41.876272</td>\n",
       "      <td>-87.624576</td>\n",
       "      <td>41.867226</td>\n",
       "      <td>-87.615355</td>\n",
       "      <td>casual</td>\n",
       "    </tr>\n",
       "  </tbody>\n",
       "</table>\n",
       "<p>5733451 rows × 13 columns</p>\n",
       "</div>"
      ],
      "text/plain": [
       "                 ride_id  rideable_type           started_at  \\\n",
       "0       46F8167220E4431F  electric_bike  2021-12-07 15:06:07   \n",
       "1       73A77762838B32FD  electric_bike  2021-12-11 03:43:29   \n",
       "2       4CF42452054F59C5  electric_bike  2021-12-15 23:10:28   \n",
       "3       3278BA87BF698339   classic_bike  2021-12-26 16:16:10   \n",
       "4       6FF54232576A3B73  electric_bike  2021-12-30 11:31:05   \n",
       "...                  ...            ...                  ...   \n",
       "337730  C349E243A9BAA6F7  electric_bike  2022-11-25 11:19:52   \n",
       "337731  B0B4E85DA43A9194   classic_bike  2022-11-22 16:57:53   \n",
       "337732  8D148DD47B59530B   classic_bike  2022-11-06 13:04:05   \n",
       "337733  0D1170BA18FD33D1   classic_bike  2022-11-06 09:41:29   \n",
       "337734  09B20DC75B5EA1E0  electric_bike  2022-11-26 11:59:28   \n",
       "\n",
       "                   ended_at             start_station_name start_station_id  \\\n",
       "0       2021-12-07 15:13:42       Laflin St & Cullerton St            13307   \n",
       "1       2021-12-11 04:10:23          LaSalle Dr & Huron St     KP1705001026   \n",
       "2       2021-12-15 23:23:14   Halsted St & North Branch St     KA1504000117   \n",
       "3       2021-12-26 16:30:53   Halsted St & North Branch St     KA1504000117   \n",
       "4       2021-12-30 11:51:21       Leavitt St & Chicago Ave            18058   \n",
       "...                     ...                            ...              ...   \n",
       "337730  2022-11-25 11:31:50         Wabash Ave & Grand Ave     TA1307000117   \n",
       "337731  2022-11-22 17:31:29     Franklin St & Jackson Blvd     TA1305000025   \n",
       "337732  2022-11-06 13:13:33  Michigan Ave & Ida B Wells Dr     TA1305000010   \n",
       "337733  2022-11-06 15:17:17           Halsted St & 18th St            13099   \n",
       "337734  2022-11-26 12:31:04  Michigan Ave & Ida B Wells Dr     TA1305000010   \n",
       "\n",
       "                      end_station_name end_station_id  start_lat  start_lng  \\\n",
       "0                  Morgan St & Polk St   TA1307000130  41.854833 -87.663660   \n",
       "1           Clarendon Ave & Leland Ave   TA1307000119  41.894405 -87.632331   \n",
       "2                 Broadway & Barry Ave          13137  41.899357 -87.648522   \n",
       "3                LaSalle Dr & Huron St   KP1705001026  41.899390 -87.648545   \n",
       "4               Clark St & Drummond Pl   TA1307000142  41.895579 -87.682024   \n",
       "...                                ...            ...        ...        ...   \n",
       "337730                             NaN            NaN  41.891836 -87.626806   \n",
       "337731  Sheffield Ave & Wrightwood Ave   TA1309000023  41.877708 -87.635321   \n",
       "337732                  Shedd Aquarium          15544  41.876243 -87.624426   \n",
       "337733                  Shedd Aquarium          15544  41.857506 -87.645991   \n",
       "337734                  Shedd Aquarium          15544  41.876272 -87.624576   \n",
       "\n",
       "          end_lat    end_lng member_casual  \n",
       "0       41.871969 -87.650965        member  \n",
       "1       41.967968 -87.650001        casual  \n",
       "2       41.937582 -87.644098        member  \n",
       "3       41.894877 -87.632326        member  \n",
       "4       41.931248 -87.644336        member  \n",
       "...           ...        ...           ...  \n",
       "337730  41.890000 -87.620000        member  \n",
       "337731  41.928712 -87.653833        casual  \n",
       "337732  41.867226 -87.615355        casual  \n",
       "337733  41.867226 -87.615355        casual  \n",
       "337734  41.867226 -87.615355        casual  \n",
       "\n",
       "[5733451 rows x 13 columns]"
      ]
     },
     "execution_count": 4,
     "metadata": {},
     "output_type": "execute_result"
    }
   ],
   "source": [
    "# Reading the merged file\n",
    "\n",
    "case_file_123 = df\n",
    "case_file_123"
   ]
  },
  {
   "cell_type": "code",
   "execution_count": 5,
   "id": "6a2685bd",
   "metadata": {},
   "outputs": [
    {
     "name": "stdout",
     "output_type": "stream",
     "text": [
      "<class 'pandas.core.frame.DataFrame'>\n",
      "Int64Index: 5733451 entries, 0 to 337734\n",
      "Data columns (total 13 columns):\n",
      " #   Column              Dtype  \n",
      "---  ------              -----  \n",
      " 0   ride_id             object \n",
      " 1   rideable_type       object \n",
      " 2   started_at          object \n",
      " 3   ended_at            object \n",
      " 4   start_station_name  object \n",
      " 5   start_station_id    object \n",
      " 6   end_station_name    object \n",
      " 7   end_station_id      object \n",
      " 8   start_lat           float64\n",
      " 9   start_lng           float64\n",
      " 10  end_lat             float64\n",
      " 11  end_lng             float64\n",
      " 12  member_casual       object \n",
      "dtypes: float64(4), object(9)\n",
      "memory usage: 612.4+ MB\n"
     ]
    }
   ],
   "source": [
    "# To get information about the dataframe.\n",
    "case_file_123.info()"
   ]
  },
  {
   "cell_type": "code",
   "execution_count": 6,
   "id": "679915f1",
   "metadata": {},
   "outputs": [],
   "source": [
    "#To convert object data type of start_time and end_time columns into datetime data type\n",
    "case_file_123[\"start_time\"] = pd.to_datetime(case_file_123[\"started_at\"])\n",
    "case_file_123[\"end_time\"] = pd.to_datetime(case_file_123[\"ended_at\"])"
   ]
  },
  {
   "cell_type": "code",
   "execution_count": 7,
   "id": "c132b0d6",
   "metadata": {},
   "outputs": [
    {
     "data": {
      "text/plain": [
       "0        0 days 00:07:35\n",
       "1        0 days 00:26:54\n",
       "2        0 days 00:12:46\n",
       "3        0 days 00:14:43\n",
       "4        0 days 00:20:16\n",
       "               ...      \n",
       "337730   0 days 00:11:58\n",
       "337731   0 days 00:33:36\n",
       "337732   0 days 00:09:28\n",
       "337733   0 days 05:35:48\n",
       "337734   0 days 00:31:36\n",
       "Name: ride_length, Length: 5733451, dtype: timedelta64[ns]"
      ]
     },
     "execution_count": 7,
     "metadata": {},
     "output_type": "execute_result"
    }
   ],
   "source": [
    "#Adding new column - ride_length (ended_at - started_at) to calculate the time travelled\n",
    "case_file_123[\"ride_length\"] = case_file_123[\"end_time\"] - case_file_123[\"start_time\"]\n",
    "case_file_123[\"ride_length\"]"
   ]
  },
  {
   "cell_type": "code",
   "execution_count": 8,
   "id": "45a7694f",
   "metadata": {},
   "outputs": [
    {
     "name": "stdout",
     "output_type": "stream",
     "text": [
      "<class 'pandas.core.frame.DataFrame'>\n",
      "Int64Index: 5733451 entries, 0 to 337734\n",
      "Data columns (total 16 columns):\n",
      " #   Column              Dtype          \n",
      "---  ------              -----          \n",
      " 0   ride_id             object         \n",
      " 1   rideable_type       object         \n",
      " 2   started_at          object         \n",
      " 3   ended_at            object         \n",
      " 4   start_station_name  object         \n",
      " 5   start_station_id    object         \n",
      " 6   end_station_name    object         \n",
      " 7   end_station_id      object         \n",
      " 8   start_lat           float64        \n",
      " 9   start_lng           float64        \n",
      " 10  end_lat             float64        \n",
      " 11  end_lng             float64        \n",
      " 12  member_casual       object         \n",
      " 13  start_time          datetime64[ns] \n",
      " 14  end_time            datetime64[ns] \n",
      " 15  ride_length         timedelta64[ns]\n",
      "dtypes: datetime64[ns](2), float64(4), object(9), timedelta64[ns](1)\n",
      "memory usage: 743.6+ MB\n"
     ]
    }
   ],
   "source": [
    "# To get the updated information about the changes made in the data type of dataframe.\n",
    "case_file_123.info()"
   ]
  },
  {
   "cell_type": "code",
   "execution_count": 9,
   "id": "663486a7",
   "metadata": {},
   "outputs": [
    {
     "data": {
      "text/plain": [
       "0         2021-12-07\n",
       "1         2021-12-11\n",
       "2         2021-12-15\n",
       "3         2021-12-26\n",
       "4         2021-12-30\n",
       "             ...    \n",
       "337730    2022-11-25\n",
       "337731    2022-11-22\n",
       "337732    2022-11-06\n",
       "337733    2022-11-06\n",
       "337734    2022-11-26\n",
       "Name: start_date1, Length: 5733451, dtype: object"
      ]
     },
     "execution_count": 9,
     "metadata": {},
     "output_type": "execute_result"
    }
   ],
   "source": [
    "# Splitting and extracting the date from \"started_at\" column\n",
    "case_file_123[\"start_date1\"] = [i.split(\" \")[0] for i in case_file_123[\"started_at\"]]\n",
    "case_file_123[\"start_date1\"]"
   ]
  },
  {
   "cell_type": "code",
   "execution_count": 10,
   "id": "652fb694",
   "metadata": {},
   "outputs": [],
   "source": [
    "# Converting start_date1 into datetime data type\n",
    "case_file_123[\"start_date1\"] = pd.to_datetime(case_file_123[\"start_date1\"])"
   ]
  },
  {
   "cell_type": "code",
   "execution_count": 11,
   "id": "9e5dd1d2",
   "metadata": {},
   "outputs": [
    {
     "data": {
      "text/plain": [
       "array([1, 5, 2, 6, 3, 4, 0], dtype=int64)"
      ]
     },
     "execution_count": 11,
     "metadata": {},
     "output_type": "execute_result"
    }
   ],
   "source": [
    "# Finding the weekday of the date\n",
    "case_file_123['week_day'] = case_file_123[\"start_date1\"].apply(lambda x: x.weekday())\n",
    "case_file_123['week_day'].unique()"
   ]
  },
  {
   "cell_type": "code",
   "execution_count": 12,
   "id": "b42c8296",
   "metadata": {},
   "outputs": [
    {
     "data": {
      "text/plain": [
       "0            Monday\n",
       "1            Friday\n",
       "2           Tuesday\n",
       "3          Saturday\n",
       "4         Wednesday\n",
       "            ...    \n",
       "337730     Thursday\n",
       "337731       Monday\n",
       "337732     Saturday\n",
       "337733     Saturday\n",
       "337734       Friday\n",
       "Name: week_day, Length: 5733451, dtype: object"
      ]
     },
     "execution_count": 12,
     "metadata": {},
     "output_type": "execute_result"
    }
   ],
   "source": [
    "# Converting weekday values into weekday\n",
    "dict1 = {0: \"Sunday\", 1: \"Monday\", 2: \"Tuesday\", 3: \"Wednesday\", 4: \"Thursday\", 5: \"Friday\", 6: \"Saturday\"}\n",
    "case_file_123['week_day'] = case_file_123['week_day'].apply(lambda y: dict1[y])\n",
    "case_file_123['week_day']"
   ]
  },
  {
   "cell_type": "code",
   "execution_count": 13,
   "id": "75adb8f5",
   "metadata": {},
   "outputs": [],
   "source": [
    "# To sort the dataframe by start date in ascending order\n",
    "case_file_123.sort_values(by=['started_at'], inplace=True, ascending=True)"
   ]
  },
  {
   "cell_type": "code",
   "execution_count": 14,
   "id": "e3552191",
   "metadata": {},
   "outputs": [],
   "source": [
    "# Drop all rows with any NaN values\n",
    "case_file_123_cleaned = case_file_123.dropna()"
   ]
  },
  {
   "cell_type": "code",
   "execution_count": 15,
   "id": "1aef34c2",
   "metadata": {},
   "outputs": [],
   "source": [
    "# To save the cleaned file for further transformation of data\n",
    "case_file_123_cleaned.to_csv('cleaned.csv')"
   ]
  },
  {
   "cell_type": "code",
   "execution_count": 16,
   "id": "82d7c232",
   "metadata": {},
   "outputs": [],
   "source": [
    "# To import the cleaned data file\n",
    "cleaned_file = pd.read_csv(\"cleaned.csv\")"
   ]
  },
  {
   "cell_type": "code",
   "execution_count": 17,
   "id": "6f0bcf57",
   "metadata": {},
   "outputs": [
    {
     "data": {
      "text/html": [
       "<div>\n",
       "<style scoped>\n",
       "    .dataframe tbody tr th:only-of-type {\n",
       "        vertical-align: middle;\n",
       "    }\n",
       "\n",
       "    .dataframe tbody tr th {\n",
       "        vertical-align: top;\n",
       "    }\n",
       "\n",
       "    .dataframe thead th {\n",
       "        text-align: right;\n",
       "    }\n",
       "</style>\n",
       "<table border=\"1\" class=\"dataframe\">\n",
       "  <thead>\n",
       "    <tr style=\"text-align: right;\">\n",
       "      <th></th>\n",
       "      <th>Unnamed: 0</th>\n",
       "      <th>ride_id</th>\n",
       "      <th>rideable_type</th>\n",
       "      <th>started_at</th>\n",
       "      <th>ended_at</th>\n",
       "      <th>start_station_name</th>\n",
       "      <th>start_station_id</th>\n",
       "      <th>end_station_name</th>\n",
       "      <th>end_station_id</th>\n",
       "      <th>start_lat</th>\n",
       "      <th>start_lng</th>\n",
       "      <th>end_lat</th>\n",
       "      <th>end_lng</th>\n",
       "      <th>member_casual</th>\n",
       "      <th>start_time</th>\n",
       "      <th>end_time</th>\n",
       "      <th>ride_length</th>\n",
       "      <th>start_date1</th>\n",
       "      <th>week_day</th>\n",
       "    </tr>\n",
       "  </thead>\n",
       "  <tbody>\n",
       "    <tr>\n",
       "      <th>0</th>\n",
       "      <td>182646</td>\n",
       "      <td>0CD83C3FE35E69A0</td>\n",
       "      <td>classic_bike</td>\n",
       "      <td>2021-12-01 00:00:03</td>\n",
       "      <td>2021-12-01 00:07:34</td>\n",
       "      <td>State St &amp; Kinzie St</td>\n",
       "      <td>13050</td>\n",
       "      <td>St. Clair St &amp; Erie St</td>\n",
       "      <td>13016</td>\n",
       "      <td>41.889187</td>\n",
       "      <td>-87.627754</td>\n",
       "      <td>41.894345</td>\n",
       "      <td>-87.622798</td>\n",
       "      <td>casual</td>\n",
       "      <td>2021-12-01 00:00:03</td>\n",
       "      <td>2021-12-01 00:07:34</td>\n",
       "      <td>0 days 00:07:31</td>\n",
       "      <td>2021-12-01</td>\n",
       "      <td>Tuesday</td>\n",
       "    </tr>\n",
       "    <tr>\n",
       "      <th>1</th>\n",
       "      <td>73536</td>\n",
       "      <td>5CB387082B4310B2</td>\n",
       "      <td>classic_bike</td>\n",
       "      <td>2021-12-01 00:03:44</td>\n",
       "      <td>2021-12-01 00:07:44</td>\n",
       "      <td>Ellis Ave &amp; 60th St</td>\n",
       "      <td>KA1503000014</td>\n",
       "      <td>University Ave &amp; 57th St</td>\n",
       "      <td>KA1503000071</td>\n",
       "      <td>41.785097</td>\n",
       "      <td>-87.601073</td>\n",
       "      <td>41.791478</td>\n",
       "      <td>-87.599861</td>\n",
       "      <td>member</td>\n",
       "      <td>2021-12-01 00:03:44</td>\n",
       "      <td>2021-12-01 00:07:44</td>\n",
       "      <td>0 days 00:04:00</td>\n",
       "      <td>2021-12-01</td>\n",
       "      <td>Tuesday</td>\n",
       "    </tr>\n",
       "    <tr>\n",
       "      <th>2</th>\n",
       "      <td>13280</td>\n",
       "      <td>A8830C276991FBBC</td>\n",
       "      <td>classic_bike</td>\n",
       "      <td>2021-12-01 00:04:31</td>\n",
       "      <td>2021-12-01 00:07:37</td>\n",
       "      <td>Lake Park Ave &amp; 47th St</td>\n",
       "      <td>TA1308000035</td>\n",
       "      <td>Greenwood Ave &amp; 47th St</td>\n",
       "      <td>TA1308000002</td>\n",
       "      <td>41.809443</td>\n",
       "      <td>-87.591875</td>\n",
       "      <td>41.809835</td>\n",
       "      <td>-87.599383</td>\n",
       "      <td>member</td>\n",
       "      <td>2021-12-01 00:04:31</td>\n",
       "      <td>2021-12-01 00:07:37</td>\n",
       "      <td>0 days 00:03:06</td>\n",
       "      <td>2021-12-01</td>\n",
       "      <td>Tuesday</td>\n",
       "    </tr>\n",
       "    <tr>\n",
       "      <th>3</th>\n",
       "      <td>65547</td>\n",
       "      <td>5888E624121F3AF1</td>\n",
       "      <td>electric_bike</td>\n",
       "      <td>2021-12-01 00:05:32</td>\n",
       "      <td>2021-12-01 00:19:18</td>\n",
       "      <td>Clark St &amp; Chicago Ave</td>\n",
       "      <td>13303</td>\n",
       "      <td>Ping Tom Park (East)</td>\n",
       "      <td>20260.0</td>\n",
       "      <td>41.896774</td>\n",
       "      <td>-87.631060</td>\n",
       "      <td>41.860000</td>\n",
       "      <td>-87.630000</td>\n",
       "      <td>member</td>\n",
       "      <td>2021-12-01 00:05:32</td>\n",
       "      <td>2021-12-01 00:19:18</td>\n",
       "      <td>0 days 00:13:46</td>\n",
       "      <td>2021-12-01</td>\n",
       "      <td>Tuesday</td>\n",
       "    </tr>\n",
       "    <tr>\n",
       "      <th>4</th>\n",
       "      <td>154473</td>\n",
       "      <td>82CE2ACCE16EE094</td>\n",
       "      <td>classic_bike</td>\n",
       "      <td>2021-12-01 00:05:47</td>\n",
       "      <td>2021-12-01 00:32:52</td>\n",
       "      <td>Michigan Ave &amp; Lake St</td>\n",
       "      <td>TA1305000011</td>\n",
       "      <td>DuSable Lake Shore Dr &amp; Diversey Pkwy</td>\n",
       "      <td>TA1309000039</td>\n",
       "      <td>41.886024</td>\n",
       "      <td>-87.624117</td>\n",
       "      <td>41.932588</td>\n",
       "      <td>-87.636427</td>\n",
       "      <td>member</td>\n",
       "      <td>2021-12-01 00:05:47</td>\n",
       "      <td>2021-12-01 00:32:52</td>\n",
       "      <td>0 days 00:27:05</td>\n",
       "      <td>2021-12-01</td>\n",
       "      <td>Tuesday</td>\n",
       "    </tr>\n",
       "    <tr>\n",
       "      <th>...</th>\n",
       "      <td>...</td>\n",
       "      <td>...</td>\n",
       "      <td>...</td>\n",
       "      <td>...</td>\n",
       "      <td>...</td>\n",
       "      <td>...</td>\n",
       "      <td>...</td>\n",
       "      <td>...</td>\n",
       "      <td>...</td>\n",
       "      <td>...</td>\n",
       "      <td>...</td>\n",
       "      <td>...</td>\n",
       "      <td>...</td>\n",
       "      <td>...</td>\n",
       "      <td>...</td>\n",
       "      <td>...</td>\n",
       "      <td>...</td>\n",
       "      <td>...</td>\n",
       "      <td>...</td>\n",
       "    </tr>\n",
       "    <tr>\n",
       "      <th>4410323</th>\n",
       "      <td>2162</td>\n",
       "      <td>FDB69DF74922162E</td>\n",
       "      <td>classic_bike</td>\n",
       "      <td>2022-11-30 23:53:00</td>\n",
       "      <td>2022-12-01 00:03:58</td>\n",
       "      <td>Desplaines St &amp; Kinzie St</td>\n",
       "      <td>TA1306000003</td>\n",
       "      <td>Eckhart Park</td>\n",
       "      <td>13289</td>\n",
       "      <td>41.888716</td>\n",
       "      <td>-87.644448</td>\n",
       "      <td>41.896373</td>\n",
       "      <td>-87.660984</td>\n",
       "      <td>casual</td>\n",
       "      <td>2022-11-30 23:53:00</td>\n",
       "      <td>2022-12-01 00:03:58</td>\n",
       "      <td>0 days 00:10:58</td>\n",
       "      <td>2022-11-30</td>\n",
       "      <td>Tuesday</td>\n",
       "    </tr>\n",
       "    <tr>\n",
       "      <th>4410324</th>\n",
       "      <td>180458</td>\n",
       "      <td>CB5ECCA9D1567A45</td>\n",
       "      <td>electric_bike</td>\n",
       "      <td>2022-11-30 23:54:40</td>\n",
       "      <td>2022-11-30 23:58:59</td>\n",
       "      <td>State St &amp; Van Buren St</td>\n",
       "      <td>TA1305000035</td>\n",
       "      <td>Michigan Ave &amp; 14th St</td>\n",
       "      <td>TA1307000124</td>\n",
       "      <td>41.877238</td>\n",
       "      <td>-87.627823</td>\n",
       "      <td>41.864059</td>\n",
       "      <td>-87.623727</td>\n",
       "      <td>member</td>\n",
       "      <td>2022-11-30 23:54:40</td>\n",
       "      <td>2022-11-30 23:58:59</td>\n",
       "      <td>0 days 00:04:19</td>\n",
       "      <td>2022-11-30</td>\n",
       "      <td>Tuesday</td>\n",
       "    </tr>\n",
       "    <tr>\n",
       "      <th>4410325</th>\n",
       "      <td>177330</td>\n",
       "      <td>0A7F3F32FCC736D1</td>\n",
       "      <td>classic_bike</td>\n",
       "      <td>2022-11-30 23:55:02</td>\n",
       "      <td>2022-12-01 00:21:10</td>\n",
       "      <td>McClurg Ct &amp; Ohio St</td>\n",
       "      <td>TA1306000029</td>\n",
       "      <td>Sheffield Ave &amp; Fullerton Ave</td>\n",
       "      <td>TA1306000016</td>\n",
       "      <td>41.892592</td>\n",
       "      <td>-87.617289</td>\n",
       "      <td>41.925602</td>\n",
       "      <td>-87.653708</td>\n",
       "      <td>member</td>\n",
       "      <td>2022-11-30 23:55:02</td>\n",
       "      <td>2022-12-01 00:21:10</td>\n",
       "      <td>0 days 00:26:08</td>\n",
       "      <td>2022-11-30</td>\n",
       "      <td>Tuesday</td>\n",
       "    </tr>\n",
       "    <tr>\n",
       "      <th>4410326</th>\n",
       "      <td>16514</td>\n",
       "      <td>C32D3E0585F38636</td>\n",
       "      <td>electric_bike</td>\n",
       "      <td>2022-11-30 23:55:28</td>\n",
       "      <td>2022-11-30 23:59:46</td>\n",
       "      <td>Broadway &amp; Cornelia Ave</td>\n",
       "      <td>13278</td>\n",
       "      <td>Clarendon Ave &amp; Gordon Ter</td>\n",
       "      <td>13379</td>\n",
       "      <td>41.945466</td>\n",
       "      <td>-87.646343</td>\n",
       "      <td>41.957867</td>\n",
       "      <td>-87.649505</td>\n",
       "      <td>member</td>\n",
       "      <td>2022-11-30 23:55:28</td>\n",
       "      <td>2022-11-30 23:59:46</td>\n",
       "      <td>0 days 00:04:18</td>\n",
       "      <td>2022-11-30</td>\n",
       "      <td>Tuesday</td>\n",
       "    </tr>\n",
       "    <tr>\n",
       "      <th>4410327</th>\n",
       "      <td>337271</td>\n",
       "      <td>F6BE77C9DC9AB3BC</td>\n",
       "      <td>electric_bike</td>\n",
       "      <td>2022-11-30 23:56:11</td>\n",
       "      <td>2022-12-01 00:00:52</td>\n",
       "      <td>Clark St &amp; Winnemac Ave</td>\n",
       "      <td>TA1309000035</td>\n",
       "      <td>Broadway &amp; Ridge Ave</td>\n",
       "      <td>15578</td>\n",
       "      <td>41.973391</td>\n",
       "      <td>-87.667762</td>\n",
       "      <td>41.984045</td>\n",
       "      <td>-87.660274</td>\n",
       "      <td>casual</td>\n",
       "      <td>2022-11-30 23:56:11</td>\n",
       "      <td>2022-12-01 00:00:52</td>\n",
       "      <td>0 days 00:04:41</td>\n",
       "      <td>2022-11-30</td>\n",
       "      <td>Tuesday</td>\n",
       "    </tr>\n",
       "  </tbody>\n",
       "</table>\n",
       "<p>4410328 rows × 19 columns</p>\n",
       "</div>"
      ],
      "text/plain": [
       "         Unnamed: 0           ride_id  rideable_type           started_at  \\\n",
       "0            182646  0CD83C3FE35E69A0   classic_bike  2021-12-01 00:00:03   \n",
       "1             73536  5CB387082B4310B2   classic_bike  2021-12-01 00:03:44   \n",
       "2             13280  A8830C276991FBBC   classic_bike  2021-12-01 00:04:31   \n",
       "3             65547  5888E624121F3AF1  electric_bike  2021-12-01 00:05:32   \n",
       "4            154473  82CE2ACCE16EE094   classic_bike  2021-12-01 00:05:47   \n",
       "...             ...               ...            ...                  ...   \n",
       "4410323        2162  FDB69DF74922162E   classic_bike  2022-11-30 23:53:00   \n",
       "4410324      180458  CB5ECCA9D1567A45  electric_bike  2022-11-30 23:54:40   \n",
       "4410325      177330  0A7F3F32FCC736D1   classic_bike  2022-11-30 23:55:02   \n",
       "4410326       16514  C32D3E0585F38636  electric_bike  2022-11-30 23:55:28   \n",
       "4410327      337271  F6BE77C9DC9AB3BC  electric_bike  2022-11-30 23:56:11   \n",
       "\n",
       "                    ended_at         start_station_name start_station_id  \\\n",
       "0        2021-12-01 00:07:34       State St & Kinzie St            13050   \n",
       "1        2021-12-01 00:07:44        Ellis Ave & 60th St     KA1503000014   \n",
       "2        2021-12-01 00:07:37    Lake Park Ave & 47th St     TA1308000035   \n",
       "3        2021-12-01 00:19:18     Clark St & Chicago Ave            13303   \n",
       "4        2021-12-01 00:32:52     Michigan Ave & Lake St     TA1305000011   \n",
       "...                      ...                        ...              ...   \n",
       "4410323  2022-12-01 00:03:58  Desplaines St & Kinzie St     TA1306000003   \n",
       "4410324  2022-11-30 23:58:59    State St & Van Buren St     TA1305000035   \n",
       "4410325  2022-12-01 00:21:10       McClurg Ct & Ohio St     TA1306000029   \n",
       "4410326  2022-11-30 23:59:46    Broadway & Cornelia Ave            13278   \n",
       "4410327  2022-12-01 00:00:52    Clark St & Winnemac Ave     TA1309000035   \n",
       "\n",
       "                              end_station_name end_station_id  start_lat  \\\n",
       "0                       St. Clair St & Erie St          13016  41.889187   \n",
       "1                     University Ave & 57th St   KA1503000071  41.785097   \n",
       "2                      Greenwood Ave & 47th St   TA1308000002  41.809443   \n",
       "3                         Ping Tom Park (East)        20260.0  41.896774   \n",
       "4        DuSable Lake Shore Dr & Diversey Pkwy   TA1309000039  41.886024   \n",
       "...                                        ...            ...        ...   \n",
       "4410323                           Eckhart Park          13289  41.888716   \n",
       "4410324                 Michigan Ave & 14th St   TA1307000124  41.877238   \n",
       "4410325          Sheffield Ave & Fullerton Ave   TA1306000016  41.892592   \n",
       "4410326             Clarendon Ave & Gordon Ter          13379  41.945466   \n",
       "4410327                   Broadway & Ridge Ave          15578  41.973391   \n",
       "\n",
       "         start_lng    end_lat    end_lng member_casual           start_time  \\\n",
       "0       -87.627754  41.894345 -87.622798        casual  2021-12-01 00:00:03   \n",
       "1       -87.601073  41.791478 -87.599861        member  2021-12-01 00:03:44   \n",
       "2       -87.591875  41.809835 -87.599383        member  2021-12-01 00:04:31   \n",
       "3       -87.631060  41.860000 -87.630000        member  2021-12-01 00:05:32   \n",
       "4       -87.624117  41.932588 -87.636427        member  2021-12-01 00:05:47   \n",
       "...            ...        ...        ...           ...                  ...   \n",
       "4410323 -87.644448  41.896373 -87.660984        casual  2022-11-30 23:53:00   \n",
       "4410324 -87.627823  41.864059 -87.623727        member  2022-11-30 23:54:40   \n",
       "4410325 -87.617289  41.925602 -87.653708        member  2022-11-30 23:55:02   \n",
       "4410326 -87.646343  41.957867 -87.649505        member  2022-11-30 23:55:28   \n",
       "4410327 -87.667762  41.984045 -87.660274        casual  2022-11-30 23:56:11   \n",
       "\n",
       "                    end_time      ride_length start_date1 week_day  \n",
       "0        2021-12-01 00:07:34  0 days 00:07:31  2021-12-01  Tuesday  \n",
       "1        2021-12-01 00:07:44  0 days 00:04:00  2021-12-01  Tuesday  \n",
       "2        2021-12-01 00:07:37  0 days 00:03:06  2021-12-01  Tuesday  \n",
       "3        2021-12-01 00:19:18  0 days 00:13:46  2021-12-01  Tuesday  \n",
       "4        2021-12-01 00:32:52  0 days 00:27:05  2021-12-01  Tuesday  \n",
       "...                      ...              ...         ...      ...  \n",
       "4410323  2022-12-01 00:03:58  0 days 00:10:58  2022-11-30  Tuesday  \n",
       "4410324  2022-11-30 23:58:59  0 days 00:04:19  2022-11-30  Tuesday  \n",
       "4410325  2022-12-01 00:21:10  0 days 00:26:08  2022-11-30  Tuesday  \n",
       "4410326  2022-11-30 23:59:46  0 days 00:04:18  2022-11-30  Tuesday  \n",
       "4410327  2022-12-01 00:00:52  0 days 00:04:41  2022-11-30  Tuesday  \n",
       "\n",
       "[4410328 rows x 19 columns]"
      ]
     },
     "execution_count": 17,
     "metadata": {},
     "output_type": "execute_result"
    }
   ],
   "source": [
    "# Print the cleaned dataframe\n",
    "cleaned_file"
   ]
  },
  {
   "cell_type": "code",
   "execution_count": 18,
   "id": "30d7caeb",
   "metadata": {},
   "outputs": [
    {
     "data": {
      "text/plain": [
       "0          0.007153\n",
       "1          0.006495\n",
       "2          0.007518\n",
       "3          0.036789\n",
       "4          0.048164\n",
       "             ...   \n",
       "4410323    0.018223\n",
       "4410324    0.013801\n",
       "4410325    0.049153\n",
       "4410326    0.012798\n",
       "4410327    0.013022\n",
       "Name: distance, Length: 4410328, dtype: float64"
      ]
     },
     "execution_count": 18,
     "metadata": {},
     "output_type": "execute_result"
    }
   ],
   "source": [
    "# To calculate euclidean distance between start and end point.\n",
    "cleaned_file[\"x\"] = (cleaned_file[\"end_lat\"] - cleaned_file[\"start_lat\"])**2\n",
    "cleaned_file[\"y\"] = (cleaned_file[\"end_lng\"] - cleaned_file[\"start_lng\"])**2\n",
    "cleaned_file[\"distance\"] = (cleaned_file[\"x\"] + cleaned_file[\"y\"])**(1/2)\n",
    "cleaned_file[\"distance\"]"
   ]
  },
  {
   "cell_type": "code",
   "execution_count": 19,
   "id": "2829e602",
   "metadata": {},
   "outputs": [],
   "source": [
    "# To extract year and month from start date column\n",
    "cleaned_file['year'] = pd.DatetimeIndex(cleaned_file[\"start_date1\"]).year\n",
    "cleaned_file['month'] = pd.DatetimeIndex(cleaned_file[\"start_date1\"]).month"
   ]
  },
  {
   "cell_type": "code",
   "execution_count": 20,
   "id": "6291a2c0",
   "metadata": {},
   "outputs": [],
   "source": [
    "# To convert object datatype to timedelta\n",
    "cleaned_file[\"ride_len\"] = pd.to_timedelta(cleaned_file[\"ride_length\"])"
   ]
  },
  {
   "cell_type": "code",
   "execution_count": 21,
   "id": "f4f21340",
   "metadata": {},
   "outputs": [
    {
     "data": {
      "text/html": [
       "<div>\n",
       "<style scoped>\n",
       "    .dataframe tbody tr th:only-of-type {\n",
       "        vertical-align: middle;\n",
       "    }\n",
       "\n",
       "    .dataframe tbody tr th {\n",
       "        vertical-align: top;\n",
       "    }\n",
       "\n",
       "    .dataframe thead th {\n",
       "        text-align: right;\n",
       "    }\n",
       "</style>\n",
       "<table border=\"1\" class=\"dataframe\">\n",
       "  <thead>\n",
       "    <tr style=\"text-align: right;\">\n",
       "      <th></th>\n",
       "      <th>Unnamed: 0</th>\n",
       "      <th>ride_id</th>\n",
       "      <th>rideable_type</th>\n",
       "      <th>started_at</th>\n",
       "      <th>ended_at</th>\n",
       "      <th>start_station_name</th>\n",
       "      <th>start_station_id</th>\n",
       "      <th>end_station_name</th>\n",
       "      <th>end_station_id</th>\n",
       "      <th>start_lat</th>\n",
       "      <th>...</th>\n",
       "      <th>end_time</th>\n",
       "      <th>ride_length</th>\n",
       "      <th>start_date1</th>\n",
       "      <th>week_day</th>\n",
       "      <th>x</th>\n",
       "      <th>y</th>\n",
       "      <th>distance</th>\n",
       "      <th>year</th>\n",
       "      <th>month</th>\n",
       "      <th>ride_len</th>\n",
       "    </tr>\n",
       "  </thead>\n",
       "  <tbody>\n",
       "    <tr>\n",
       "      <th>0</th>\n",
       "      <td>182646</td>\n",
       "      <td>0CD83C3FE35E69A0</td>\n",
       "      <td>classic_bike</td>\n",
       "      <td>2021-12-01 00:00:03</td>\n",
       "      <td>2021-12-01 00:07:34</td>\n",
       "      <td>State St &amp; Kinzie St</td>\n",
       "      <td>13050</td>\n",
       "      <td>St. Clair St &amp; Erie St</td>\n",
       "      <td>13016</td>\n",
       "      <td>41.889187</td>\n",
       "      <td>...</td>\n",
       "      <td>2021-12-01 00:07:34</td>\n",
       "      <td>0 days 00:07:31</td>\n",
       "      <td>2021-12-01</td>\n",
       "      <td>Tuesday</td>\n",
       "      <td>2.660638e-05</td>\n",
       "      <td>0.000025</td>\n",
       "      <td>0.007153</td>\n",
       "      <td>2021</td>\n",
       "      <td>12</td>\n",
       "      <td>0 days 00:07:31</td>\n",
       "    </tr>\n",
       "    <tr>\n",
       "      <th>1</th>\n",
       "      <td>73536</td>\n",
       "      <td>5CB387082B4310B2</td>\n",
       "      <td>classic_bike</td>\n",
       "      <td>2021-12-01 00:03:44</td>\n",
       "      <td>2021-12-01 00:07:44</td>\n",
       "      <td>Ellis Ave &amp; 60th St</td>\n",
       "      <td>KA1503000014</td>\n",
       "      <td>University Ave &amp; 57th St</td>\n",
       "      <td>KA1503000071</td>\n",
       "      <td>41.785097</td>\n",
       "      <td>...</td>\n",
       "      <td>2021-12-01 00:07:44</td>\n",
       "      <td>0 days 00:04:00</td>\n",
       "      <td>2021-12-01</td>\n",
       "      <td>Tuesday</td>\n",
       "      <td>4.071529e-05</td>\n",
       "      <td>0.000001</td>\n",
       "      <td>0.006495</td>\n",
       "      <td>2021</td>\n",
       "      <td>12</td>\n",
       "      <td>0 days 00:04:00</td>\n",
       "    </tr>\n",
       "    <tr>\n",
       "      <th>2</th>\n",
       "      <td>13280</td>\n",
       "      <td>A8830C276991FBBC</td>\n",
       "      <td>classic_bike</td>\n",
       "      <td>2021-12-01 00:04:31</td>\n",
       "      <td>2021-12-01 00:07:37</td>\n",
       "      <td>Lake Park Ave &amp; 47th St</td>\n",
       "      <td>TA1308000035</td>\n",
       "      <td>Greenwood Ave &amp; 47th St</td>\n",
       "      <td>TA1308000002</td>\n",
       "      <td>41.809443</td>\n",
       "      <td>...</td>\n",
       "      <td>2021-12-01 00:07:37</td>\n",
       "      <td>0 days 00:03:06</td>\n",
       "      <td>2021-12-01</td>\n",
       "      <td>Tuesday</td>\n",
       "      <td>1.536640e-07</td>\n",
       "      <td>0.000056</td>\n",
       "      <td>0.007518</td>\n",
       "      <td>2021</td>\n",
       "      <td>12</td>\n",
       "      <td>0 days 00:03:06</td>\n",
       "    </tr>\n",
       "    <tr>\n",
       "      <th>3</th>\n",
       "      <td>65547</td>\n",
       "      <td>5888E624121F3AF1</td>\n",
       "      <td>electric_bike</td>\n",
       "      <td>2021-12-01 00:05:32</td>\n",
       "      <td>2021-12-01 00:19:18</td>\n",
       "      <td>Clark St &amp; Chicago Ave</td>\n",
       "      <td>13303</td>\n",
       "      <td>Ping Tom Park (East)</td>\n",
       "      <td>20260.0</td>\n",
       "      <td>41.896774</td>\n",
       "      <td>...</td>\n",
       "      <td>2021-12-01 00:19:18</td>\n",
       "      <td>0 days 00:13:46</td>\n",
       "      <td>2021-12-01</td>\n",
       "      <td>Tuesday</td>\n",
       "      <td>1.352303e-03</td>\n",
       "      <td>0.000001</td>\n",
       "      <td>0.036789</td>\n",
       "      <td>2021</td>\n",
       "      <td>12</td>\n",
       "      <td>0 days 00:13:46</td>\n",
       "    </tr>\n",
       "    <tr>\n",
       "      <th>4</th>\n",
       "      <td>154473</td>\n",
       "      <td>82CE2ACCE16EE094</td>\n",
       "      <td>classic_bike</td>\n",
       "      <td>2021-12-01 00:05:47</td>\n",
       "      <td>2021-12-01 00:32:52</td>\n",
       "      <td>Michigan Ave &amp; Lake St</td>\n",
       "      <td>TA1305000011</td>\n",
       "      <td>DuSable Lake Shore Dr &amp; Diversey Pkwy</td>\n",
       "      <td>TA1309000039</td>\n",
       "      <td>41.886024</td>\n",
       "      <td>...</td>\n",
       "      <td>2021-12-01 00:32:52</td>\n",
       "      <td>0 days 00:27:05</td>\n",
       "      <td>2021-12-01</td>\n",
       "      <td>Tuesday</td>\n",
       "      <td>2.168206e-03</td>\n",
       "      <td>0.000152</td>\n",
       "      <td>0.048164</td>\n",
       "      <td>2021</td>\n",
       "      <td>12</td>\n",
       "      <td>0 days 00:27:05</td>\n",
       "    </tr>\n",
       "    <tr>\n",
       "      <th>...</th>\n",
       "      <td>...</td>\n",
       "      <td>...</td>\n",
       "      <td>...</td>\n",
       "      <td>...</td>\n",
       "      <td>...</td>\n",
       "      <td>...</td>\n",
       "      <td>...</td>\n",
       "      <td>...</td>\n",
       "      <td>...</td>\n",
       "      <td>...</td>\n",
       "      <td>...</td>\n",
       "      <td>...</td>\n",
       "      <td>...</td>\n",
       "      <td>...</td>\n",
       "      <td>...</td>\n",
       "      <td>...</td>\n",
       "      <td>...</td>\n",
       "      <td>...</td>\n",
       "      <td>...</td>\n",
       "      <td>...</td>\n",
       "      <td>...</td>\n",
       "    </tr>\n",
       "    <tr>\n",
       "      <th>4410323</th>\n",
       "      <td>2162</td>\n",
       "      <td>FDB69DF74922162E</td>\n",
       "      <td>classic_bike</td>\n",
       "      <td>2022-11-30 23:53:00</td>\n",
       "      <td>2022-12-01 00:03:58</td>\n",
       "      <td>Desplaines St &amp; Kinzie St</td>\n",
       "      <td>TA1306000003</td>\n",
       "      <td>Eckhart Park</td>\n",
       "      <td>13289</td>\n",
       "      <td>41.888716</td>\n",
       "      <td>...</td>\n",
       "      <td>2022-12-01 00:03:58</td>\n",
       "      <td>0 days 00:10:58</td>\n",
       "      <td>2022-11-30</td>\n",
       "      <td>Tuesday</td>\n",
       "      <td>5.863476e-05</td>\n",
       "      <td>0.000273</td>\n",
       "      <td>0.018223</td>\n",
       "      <td>2022</td>\n",
       "      <td>11</td>\n",
       "      <td>0 days 00:10:58</td>\n",
       "    </tr>\n",
       "    <tr>\n",
       "      <th>4410324</th>\n",
       "      <td>180458</td>\n",
       "      <td>CB5ECCA9D1567A45</td>\n",
       "      <td>electric_bike</td>\n",
       "      <td>2022-11-30 23:54:40</td>\n",
       "      <td>2022-11-30 23:58:59</td>\n",
       "      <td>State St &amp; Van Buren St</td>\n",
       "      <td>TA1305000035</td>\n",
       "      <td>Michigan Ave &amp; 14th St</td>\n",
       "      <td>TA1307000124</td>\n",
       "      <td>41.877238</td>\n",
       "      <td>...</td>\n",
       "      <td>2022-11-30 23:58:59</td>\n",
       "      <td>0 days 00:04:19</td>\n",
       "      <td>2022-11-30</td>\n",
       "      <td>Tuesday</td>\n",
       "      <td>1.736901e-04</td>\n",
       "      <td>0.000017</td>\n",
       "      <td>0.013801</td>\n",
       "      <td>2022</td>\n",
       "      <td>11</td>\n",
       "      <td>0 days 00:04:19</td>\n",
       "    </tr>\n",
       "    <tr>\n",
       "      <th>4410325</th>\n",
       "      <td>177330</td>\n",
       "      <td>0A7F3F32FCC736D1</td>\n",
       "      <td>classic_bike</td>\n",
       "      <td>2022-11-30 23:55:02</td>\n",
       "      <td>2022-12-01 00:21:10</td>\n",
       "      <td>McClurg Ct &amp; Ohio St</td>\n",
       "      <td>TA1306000029</td>\n",
       "      <td>Sheffield Ave &amp; Fullerton Ave</td>\n",
       "      <td>TA1306000016</td>\n",
       "      <td>41.892592</td>\n",
       "      <td>...</td>\n",
       "      <td>2022-12-01 00:21:10</td>\n",
       "      <td>0 days 00:26:08</td>\n",
       "      <td>2022-11-30</td>\n",
       "      <td>Tuesday</td>\n",
       "      <td>1.089644e-03</td>\n",
       "      <td>0.001326</td>\n",
       "      <td>0.049153</td>\n",
       "      <td>2022</td>\n",
       "      <td>11</td>\n",
       "      <td>0 days 00:26:08</td>\n",
       "    </tr>\n",
       "    <tr>\n",
       "      <th>4410326</th>\n",
       "      <td>16514</td>\n",
       "      <td>C32D3E0585F38636</td>\n",
       "      <td>electric_bike</td>\n",
       "      <td>2022-11-30 23:55:28</td>\n",
       "      <td>2022-11-30 23:59:46</td>\n",
       "      <td>Broadway &amp; Cornelia Ave</td>\n",
       "      <td>13278</td>\n",
       "      <td>Clarendon Ave &amp; Gordon Ter</td>\n",
       "      <td>13379</td>\n",
       "      <td>41.945466</td>\n",
       "      <td>...</td>\n",
       "      <td>2022-11-30 23:59:46</td>\n",
       "      <td>0 days 00:04:18</td>\n",
       "      <td>2022-11-30</td>\n",
       "      <td>Tuesday</td>\n",
       "      <td>1.537838e-04</td>\n",
       "      <td>0.000010</td>\n",
       "      <td>0.012798</td>\n",
       "      <td>2022</td>\n",
       "      <td>11</td>\n",
       "      <td>0 days 00:04:18</td>\n",
       "    </tr>\n",
       "    <tr>\n",
       "      <th>4410327</th>\n",
       "      <td>337271</td>\n",
       "      <td>F6BE77C9DC9AB3BC</td>\n",
       "      <td>electric_bike</td>\n",
       "      <td>2022-11-30 23:56:11</td>\n",
       "      <td>2022-12-01 00:00:52</td>\n",
       "      <td>Clark St &amp; Winnemac Ave</td>\n",
       "      <td>TA1309000035</td>\n",
       "      <td>Broadway &amp; Ridge Ave</td>\n",
       "      <td>15578</td>\n",
       "      <td>41.973391</td>\n",
       "      <td>...</td>\n",
       "      <td>2022-12-01 00:00:52</td>\n",
       "      <td>0 days 00:04:41</td>\n",
       "      <td>2022-11-30</td>\n",
       "      <td>Tuesday</td>\n",
       "      <td>1.134957e-04</td>\n",
       "      <td>0.000056</td>\n",
       "      <td>0.013022</td>\n",
       "      <td>2022</td>\n",
       "      <td>11</td>\n",
       "      <td>0 days 00:04:41</td>\n",
       "    </tr>\n",
       "  </tbody>\n",
       "</table>\n",
       "<p>4410328 rows × 25 columns</p>\n",
       "</div>"
      ],
      "text/plain": [
       "         Unnamed: 0           ride_id  rideable_type           started_at  \\\n",
       "0            182646  0CD83C3FE35E69A0   classic_bike  2021-12-01 00:00:03   \n",
       "1             73536  5CB387082B4310B2   classic_bike  2021-12-01 00:03:44   \n",
       "2             13280  A8830C276991FBBC   classic_bike  2021-12-01 00:04:31   \n",
       "3             65547  5888E624121F3AF1  electric_bike  2021-12-01 00:05:32   \n",
       "4            154473  82CE2ACCE16EE094   classic_bike  2021-12-01 00:05:47   \n",
       "...             ...               ...            ...                  ...   \n",
       "4410323        2162  FDB69DF74922162E   classic_bike  2022-11-30 23:53:00   \n",
       "4410324      180458  CB5ECCA9D1567A45  electric_bike  2022-11-30 23:54:40   \n",
       "4410325      177330  0A7F3F32FCC736D1   classic_bike  2022-11-30 23:55:02   \n",
       "4410326       16514  C32D3E0585F38636  electric_bike  2022-11-30 23:55:28   \n",
       "4410327      337271  F6BE77C9DC9AB3BC  electric_bike  2022-11-30 23:56:11   \n",
       "\n",
       "                    ended_at         start_station_name start_station_id  \\\n",
       "0        2021-12-01 00:07:34       State St & Kinzie St            13050   \n",
       "1        2021-12-01 00:07:44        Ellis Ave & 60th St     KA1503000014   \n",
       "2        2021-12-01 00:07:37    Lake Park Ave & 47th St     TA1308000035   \n",
       "3        2021-12-01 00:19:18     Clark St & Chicago Ave            13303   \n",
       "4        2021-12-01 00:32:52     Michigan Ave & Lake St     TA1305000011   \n",
       "...                      ...                        ...              ...   \n",
       "4410323  2022-12-01 00:03:58  Desplaines St & Kinzie St     TA1306000003   \n",
       "4410324  2022-11-30 23:58:59    State St & Van Buren St     TA1305000035   \n",
       "4410325  2022-12-01 00:21:10       McClurg Ct & Ohio St     TA1306000029   \n",
       "4410326  2022-11-30 23:59:46    Broadway & Cornelia Ave            13278   \n",
       "4410327  2022-12-01 00:00:52    Clark St & Winnemac Ave     TA1309000035   \n",
       "\n",
       "                              end_station_name end_station_id  start_lat  ...  \\\n",
       "0                       St. Clair St & Erie St          13016  41.889187  ...   \n",
       "1                     University Ave & 57th St   KA1503000071  41.785097  ...   \n",
       "2                      Greenwood Ave & 47th St   TA1308000002  41.809443  ...   \n",
       "3                         Ping Tom Park (East)        20260.0  41.896774  ...   \n",
       "4        DuSable Lake Shore Dr & Diversey Pkwy   TA1309000039  41.886024  ...   \n",
       "...                                        ...            ...        ...  ...   \n",
       "4410323                           Eckhart Park          13289  41.888716  ...   \n",
       "4410324                 Michigan Ave & 14th St   TA1307000124  41.877238  ...   \n",
       "4410325          Sheffield Ave & Fullerton Ave   TA1306000016  41.892592  ...   \n",
       "4410326             Clarendon Ave & Gordon Ter          13379  41.945466  ...   \n",
       "4410327                   Broadway & Ridge Ave          15578  41.973391  ...   \n",
       "\n",
       "                    end_time      ride_length  start_date1 week_day  \\\n",
       "0        2021-12-01 00:07:34  0 days 00:07:31   2021-12-01  Tuesday   \n",
       "1        2021-12-01 00:07:44  0 days 00:04:00   2021-12-01  Tuesday   \n",
       "2        2021-12-01 00:07:37  0 days 00:03:06   2021-12-01  Tuesday   \n",
       "3        2021-12-01 00:19:18  0 days 00:13:46   2021-12-01  Tuesday   \n",
       "4        2021-12-01 00:32:52  0 days 00:27:05   2021-12-01  Tuesday   \n",
       "...                      ...              ...          ...      ...   \n",
       "4410323  2022-12-01 00:03:58  0 days 00:10:58   2022-11-30  Tuesday   \n",
       "4410324  2022-11-30 23:58:59  0 days 00:04:19   2022-11-30  Tuesday   \n",
       "4410325  2022-12-01 00:21:10  0 days 00:26:08   2022-11-30  Tuesday   \n",
       "4410326  2022-11-30 23:59:46  0 days 00:04:18   2022-11-30  Tuesday   \n",
       "4410327  2022-12-01 00:00:52  0 days 00:04:41   2022-11-30  Tuesday   \n",
       "\n",
       "                    x         y  distance  year month        ride_len  \n",
       "0        2.660638e-05  0.000025  0.007153  2021    12 0 days 00:07:31  \n",
       "1        4.071529e-05  0.000001  0.006495  2021    12 0 days 00:04:00  \n",
       "2        1.536640e-07  0.000056  0.007518  2021    12 0 days 00:03:06  \n",
       "3        1.352303e-03  0.000001  0.036789  2021    12 0 days 00:13:46  \n",
       "4        2.168206e-03  0.000152  0.048164  2021    12 0 days 00:27:05  \n",
       "...               ...       ...       ...   ...   ...             ...  \n",
       "4410323  5.863476e-05  0.000273  0.018223  2022    11 0 days 00:10:58  \n",
       "4410324  1.736901e-04  0.000017  0.013801  2022    11 0 days 00:04:19  \n",
       "4410325  1.089644e-03  0.001326  0.049153  2022    11 0 days 00:26:08  \n",
       "4410326  1.537838e-04  0.000010  0.012798  2022    11 0 days 00:04:18  \n",
       "4410327  1.134957e-04  0.000056  0.013022  2022    11 0 days 00:04:41  \n",
       "\n",
       "[4410328 rows x 25 columns]"
      ]
     },
     "execution_count": 21,
     "metadata": {},
     "output_type": "execute_result"
    }
   ],
   "source": [
    "# Print the cleaned dataframe\n",
    "cleaned_file"
   ]
  },
  {
   "cell_type": "code",
   "execution_count": 22,
   "id": "953e0c67",
   "metadata": {},
   "outputs": [
    {
     "data": {
      "text/plain": [
       "Unnamed: 0            0\n",
       "ride_id               0\n",
       "rideable_type         0\n",
       "started_at            0\n",
       "ended_at              0\n",
       "start_station_name    0\n",
       "start_station_id      0\n",
       "end_station_name      0\n",
       "end_station_id        0\n",
       "start_lat             0\n",
       "start_lng             0\n",
       "end_lat               0\n",
       "end_lng               0\n",
       "member_casual         0\n",
       "start_time            0\n",
       "end_time              0\n",
       "ride_length           0\n",
       "start_date1           0\n",
       "week_day              0\n",
       "x                     0\n",
       "y                     0\n",
       "distance              0\n",
       "year                  0\n",
       "month                 0\n",
       "ride_len              0\n",
       "dtype: int64"
      ]
     },
     "execution_count": 22,
     "metadata": {},
     "output_type": "execute_result"
    }
   ],
   "source": [
    "# To check if there are null values in dataframe\n",
    "cleaned_file.isnull().sum()"
   ]
  },
  {
   "cell_type": "code",
   "execution_count": 23,
   "id": "97d3edcf",
   "metadata": {},
   "outputs": [
    {
     "data": {
      "text/plain": [
       "False"
      ]
     },
     "execution_count": 23,
     "metadata": {},
     "output_type": "execute_result"
    }
   ],
   "source": [
    "# To check if there are any duplicate values in dataframe\n",
    "cleaned_file.duplicated().any()"
   ]
  },
  {
   "cell_type": "markdown",
   "id": "cad425db",
   "metadata": {},
   "source": [
    "# Analysis"
   ]
  },
  {
   "cell_type": "code",
   "execution_count": 24,
   "id": "fe30e81d",
   "metadata": {},
   "outputs": [
    {
     "data": {
      "text/plain": [
       "Timedelta('0 days 00:17:09.538559943')"
      ]
     },
     "execution_count": 24,
     "metadata": {},
     "output_type": "execute_result"
    }
   ],
   "source": [
    "#To calculate mean of ride length of all types of users\n",
    "mean_ride_length = cleaned_file[\"ride_len\"].mean()\n",
    "mean_ride_length"
   ]
  },
  {
   "cell_type": "code",
   "execution_count": 25,
   "id": "64701266",
   "metadata": {},
   "outputs": [
    {
     "data": {
      "text/plain": [
       "Timedelta('23 days 20:34:04')"
      ]
     },
     "execution_count": 25,
     "metadata": {},
     "output_type": "execute_result"
    }
   ],
   "source": [
    "# Calculate the max ride_length of all types of users\n",
    "max_ride_length = cleaned_file[\"ride_len\"].max()\n",
    "max_ride_length"
   ]
  },
  {
   "cell_type": "code",
   "execution_count": 26,
   "id": "3c959952",
   "metadata": {},
   "outputs": [
    {
     "data": {
      "text/plain": [
       "Timedelta('0 days 00:12:26.811196452')"
      ]
     },
     "execution_count": 26,
     "metadata": {},
     "output_type": "execute_result"
    }
   ],
   "source": [
    "# To calculate mean ride length for member\n",
    "mean_ride_length_member = cleaned_file[cleaned_file[\"member_casual\"] == \"member\"]\n",
    "mean_ride_length_member = mean_ride_length_member[\"ride_len\"].mean()\n",
    "mean_ride_length_member"
   ]
  },
  {
   "cell_type": "code",
   "execution_count": 27,
   "id": "5ded23c1",
   "metadata": {},
   "outputs": [
    {
     "data": {
      "text/plain": [
       "Timedelta('0 days 00:24:10.586204113')"
      ]
     },
     "execution_count": 27,
     "metadata": {},
     "output_type": "execute_result"
    }
   ],
   "source": [
    "# To calculate mean ride length for casual riders\n",
    "mean_ride_length_casual = cleaned_file[cleaned_file[\"member_casual\"] == \"casual\"]\n",
    "mean_ride_length_casual = mean_ride_length_casual[\"ride_len\"].mean()\n",
    "mean_ride_length_casual"
   ]
  },
  {
   "cell_type": "code",
   "execution_count": 28,
   "id": "21269e2b",
   "metadata": {},
   "outputs": [
    {
     "data": {
      "text/plain": [
       "Timedelta('1 days 00:53:14')"
      ]
     },
     "execution_count": 28,
     "metadata": {},
     "output_type": "execute_result"
    }
   ],
   "source": [
    "# To calculate max ride length for member\n",
    "max_ride_length_member = cleaned_file[cleaned_file[\"member_casual\"] == \"member\"]\n",
    "max_ride_length_member = max_ride_length_member[\"ride_len\"].max()\n",
    "max_ride_length_member"
   ]
  },
  {
   "cell_type": "code",
   "execution_count": 29,
   "id": "051ef936",
   "metadata": {},
   "outputs": [
    {
     "data": {
      "text/plain": [
       "Timedelta('23 days 20:34:04')"
      ]
     },
     "execution_count": 29,
     "metadata": {},
     "output_type": "execute_result"
    }
   ],
   "source": [
    "# To calculate max ride length for casual riders\n",
    "max_ride_length_casual = cleaned_file[cleaned_file[\"member_casual\"] == \"casual\"]\n",
    "max_ride_length_casual = max_ride_length_casual[\"ride_len\"].max()\n",
    "max_ride_length_casual"
   ]
  },
  {
   "cell_type": "code",
   "execution_count": 30,
   "id": "ab6117f7",
   "metadata": {},
   "outputs": [
    {
     "data": {
      "text/plain": [
       "0    Friday\n",
       "Name: week_day, dtype: object"
      ]
     },
     "execution_count": 30,
     "metadata": {},
     "output_type": "execute_result"
    }
   ],
   "source": [
    "# Calculate the mode of week_day for all types of users\n",
    "mode_week_day = cleaned_file[\"week_day\"].mode()\n",
    "mode_week_day"
   ]
  },
  {
   "cell_type": "code",
   "execution_count": 31,
   "id": "1233e632",
   "metadata": {},
   "outputs": [
    {
     "data": {
      "text/plain": [
       "0    Tuesday\n",
       "Name: week_day, dtype: object"
      ]
     },
     "execution_count": 31,
     "metadata": {},
     "output_type": "execute_result"
    }
   ],
   "source": [
    "# To calculate mode of week_day for member\n",
    "mode_week_day_member = cleaned_file[cleaned_file[\"member_casual\"] == \"member\"]\n",
    "mode_week_day_member = mode_week_day_member[\"week_day\"].mode()\n",
    "mode_week_day_member"
   ]
  },
  {
   "cell_type": "code",
   "execution_count": 32,
   "id": "7301a661",
   "metadata": {},
   "outputs": [
    {
     "data": {
      "text/plain": [
       "0    Friday\n",
       "Name: week_day, dtype: object"
      ]
     },
     "execution_count": 32,
     "metadata": {},
     "output_type": "execute_result"
    }
   ],
   "source": [
    "# To calculate mode of week_day for casual\n",
    "mode_week_day_casual = cleaned_file[cleaned_file[\"member_casual\"] == \"casual\"]\n",
    "mode_week_day_casual = mode_week_day_casual[\"week_day\"].mode()\n",
    "mode_week_day_casual"
   ]
  },
  {
   "cell_type": "code",
   "execution_count": 33,
   "id": "30f86d0d",
   "metadata": {},
   "outputs": [
    {
     "data": {
      "text/plain": [
       "week_day\n",
       "0    589886\n",
       "1    607039\n",
       "2    629053\n",
       "3    653458\n",
       "4    618828\n",
       "5    709080\n",
       "6    602984\n",
       "Name: ride_id, dtype: int64"
      ]
     },
     "execution_count": 33,
     "metadata": {},
     "output_type": "execute_result"
    }
   ],
   "source": [
    "# Calculate the number of rides for users by week_day by adding Count of ride_id to Values\n",
    "dict1 = {\"Sunday\": 0, \"Monday\": 1, \"Tuesday\": 2, \"Wednesday\": 3, \"Thursday\": 4, \"Friday\":5, \"Saturday\": 6}\n",
    "cleaned_file['week_day'] = cleaned_file['week_day'].apply(lambda y: dict1[y])\n",
    "\n",
    "count_users_week_day = cleaned_file.groupby('week_day')['ride_id'].count()\n",
    "count_users_week_day = count_users_week_day.sort_index()\n",
    "count_users_week_day"
   ]
  },
  {
   "cell_type": "code",
   "execution_count": 34,
   "id": "32a09d1e",
   "metadata": {},
   "outputs": [
    {
     "data": {
      "text/plain": [
       "week_day\n",
       "0    377637\n",
       "1    410877\n",
       "2    422759\n",
       "3    421142\n",
       "4    366677\n",
       "5    339607\n",
       "6    299869\n",
       "Name: ride_id, dtype: int64"
      ]
     },
     "execution_count": 34,
     "metadata": {},
     "output_type": "execute_result"
    }
   ],
   "source": [
    "# Calculate the number of rides for member by week_day by adding Count of ride_id to Values\n",
    "count_member_week_day = cleaned_file[cleaned_file[\"member_casual\"] == \"member\"].groupby('week_day')['ride_id'].count()\n",
    "count_member_week_day"
   ]
  },
  {
   "cell_type": "code",
   "execution_count": 35,
   "id": "bc1a2810",
   "metadata": {},
   "outputs": [
    {
     "data": {
      "text/plain": [
       "week_day\n",
       "0    212249\n",
       "1    196162\n",
       "2    206294\n",
       "3    232316\n",
       "4    252151\n",
       "5    369473\n",
       "6    303115\n",
       "Name: ride_id, dtype: int64"
      ]
     },
     "execution_count": 35,
     "metadata": {},
     "output_type": "execute_result"
    }
   ],
   "source": [
    "# Calculate the number of rides for casual by week_day by adding Count of ride_id to Values\n",
    "count_casual_week_day = cleaned_file[cleaned_file[\"member_casual\"] == \"casual\"].groupby('week_day')['ride_id'].count()\n",
    "count_casual_week_day"
   ]
  },
  {
   "cell_type": "code",
   "execution_count": 36,
   "id": "6a872f99",
   "metadata": {},
   "outputs": [
    {
     "data": {
      "image/png": "[encoded data removed]",
      "text/plain": [
       "<Figure size 800x600 with 1 Axes>"
      ]
     },
     "metadata": {},
     "output_type": "display_data"
    }
   ],
   "source": [
    "# To plot graph of Weekday Vs Number Of Rides\n",
    "plt.figure(figsize = (8,6))\n",
    "plt.plot(count_users_week_day.index, count_users_week_day.values)\n",
    "plt.plot(count_member_week_day.index, count_member_week_day.values)\n",
    "plt.plot(count_casual_week_day.index, count_casual_week_day.values)\n",
    "plt.title(\"Calculate the number of rides for different users by week_day by adding Count of ride_id to Values\")\n",
    "plt.legend([\"user\", \"member\", \"casual\"])\n",
    "labels = [\"Sunday\", \"Monday\", \"Tuesday\", \"Wednesday\", \"Thursday\", \"Friday\", \"Saturday\"]\n",
    "plt.xticks(count_casual_week_day.index, labels)\n",
    "plt.show()"
   ]
  },
  {
   "cell_type": "code",
   "execution_count": 37,
   "id": "3e6d8cd9",
   "metadata": {},
   "outputs": [
    {
     "data": {
      "text/plain": [
       "week_day\n",
       "0   0 days 00:16:40.734284251\n",
       "1   0 days 00:14:59.507329842\n",
       "2   0 days 00:14:49.719220796\n",
       "3   0 days 00:15:28.258483330\n",
       "4   0 days 00:16:23.917122366\n",
       "5   0 days 00:20:41.894389913\n",
       "6   0 days 00:20:41.344957743\n",
       "Name: ride_len, dtype: timedelta64[ns]"
      ]
     },
     "execution_count": 37,
     "metadata": {},
     "output_type": "execute_result"
    }
   ],
   "source": [
    "# Calculate the average ride_length for users by week_day\n",
    "user_avg_ride_len_week_day = cleaned_file.groupby(\"week_day\")['ride_len'].mean(numeric_only=False)\n",
    "user_avg_ride_len_week_day"
   ]
  },
  {
   "cell_type": "code",
   "execution_count": 38,
   "id": "2e90a244",
   "metadata": {},
   "outputs": [
    {
     "data": {
      "text/plain": [
       "week_day\n",
       "0   0 days 00:12:01.649234582\n",
       "1   0 days 00:11:47.664563847\n",
       "2   0 days 00:11:48.796493983\n",
       "3   0 days 00:12:02.379897991\n",
       "4   0 days 00:12:12.780253465\n",
       "5   0 days 00:14:00.361924224\n",
       "6   0 days 00:13:51.251349756\n",
       "Name: ride_len, dtype: timedelta64[ns]"
      ]
     },
     "execution_count": 38,
     "metadata": {},
     "output_type": "execute_result"
    }
   ],
   "source": [
    "# Calculate the average ride_length for members by week_day\n",
    "member_avg_ride_len_week_day = cleaned_file[cleaned_file[\"member_casual\"] == \"member\"].groupby('week_day')['ride_len'].mean(numeric_only=False)\n",
    "member_avg_ride_len_week_day"
   ]
  },
  {
   "cell_type": "code",
   "execution_count": 39,
   "id": "2fe7496e",
   "metadata": {},
   "outputs": [
    {
     "data": {
      "text/plain": [
       "week_day\n",
       "0   0 days 00:24:57.287110893\n",
       "1   0 days 00:21:41.337348721\n",
       "2   0 days 00:21:00.484783852\n",
       "3   0 days 00:21:41.474788649\n",
       "4   0 days 00:22:29.119376881\n",
       "5   0 days 00:26:50.969359060\n",
       "6   0 days 00:27:27.046952476\n",
       "Name: ride_len, dtype: timedelta64[ns]"
      ]
     },
     "execution_count": 39,
     "metadata": {},
     "output_type": "execute_result"
    }
   ],
   "source": [
    "# Calculate the average ride_length for casual by week_day\n",
    "casual_avg_ride_len_week_day = cleaned_file[cleaned_file[\"member_casual\"] == \"casual\"].groupby('week_day')['ride_len'].mean(numeric_only=False)\n",
    "casual_avg_ride_len_week_day"
   ]
  },
  {
   "cell_type": "code",
   "execution_count": 40,
   "id": "0565407e",
   "metadata": {},
   "outputs": [
    {
     "data": {
      "image/png": "[encoded data removed]",
      "text/plain": [
       "<Figure size 640x480 with 1 Axes>"
      ]
     },
     "metadata": {},
     "output_type": "display_data"
    }
   ],
   "source": [
    "# To plot graph of Weekday Vs Average ride length\n",
    "plt.plot(user_avg_ride_len_week_day/pd.Timedelta(minutes=1))\n",
    "plt.plot(member_avg_ride_len_week_day/pd.Timedelta(minutes=1))\n",
    "plt.plot(casual_avg_ride_len_week_day/pd.Timedelta(minutes=1))\n",
    "plt.title(\"The average ride_length for different users by week_day\")\n",
    "plt.legend([\"user\", \"member\", \"casual\"])\n",
    "labels = [\"Sunday\", \"Monday\", \"Tuesday\", \"Wednesday\", \"Thursday\", \"Friday\", \"Saturday\"]\n",
    "plt.xticks(user_avg_ride_len_week_day.index, labels)\n",
    "plt.show()"
   ]
  },
  {
   "cell_type": "code",
   "execution_count": 41,
   "id": "15e525a6",
   "metadata": {},
   "outputs": [
    {
     "data": {
      "text/html": [
       "<div>\n",
       "<style scoped>\n",
       "    .dataframe tbody tr th:only-of-type {\n",
       "        vertical-align: middle;\n",
       "    }\n",
       "\n",
       "    .dataframe tbody tr th {\n",
       "        vertical-align: top;\n",
       "    }\n",
       "\n",
       "    .dataframe thead th {\n",
       "        text-align: right;\n",
       "    }\n",
       "</style>\n",
       "<table border=\"1\" class=\"dataframe\">\n",
       "  <thead>\n",
       "    <tr style=\"text-align: right;\">\n",
       "      <th></th>\n",
       "      <th>Unnamed: 0</th>\n",
       "      <th>ride_id</th>\n",
       "      <th>rideable_type</th>\n",
       "      <th>started_at</th>\n",
       "      <th>ended_at</th>\n",
       "      <th>start_station_name</th>\n",
       "      <th>start_station_id</th>\n",
       "      <th>end_station_name</th>\n",
       "      <th>end_station_id</th>\n",
       "      <th>start_lat</th>\n",
       "      <th>...</th>\n",
       "      <th>end_time</th>\n",
       "      <th>ride_length</th>\n",
       "      <th>start_date1</th>\n",
       "      <th>week_day</th>\n",
       "      <th>x</th>\n",
       "      <th>y</th>\n",
       "      <th>distance</th>\n",
       "      <th>year</th>\n",
       "      <th>month</th>\n",
       "      <th>ride_len</th>\n",
       "    </tr>\n",
       "  </thead>\n",
       "  <tbody>\n",
       "    <tr>\n",
       "      <th>0</th>\n",
       "      <td>182646</td>\n",
       "      <td>0CD83C3FE35E69A0</td>\n",
       "      <td>classic_bike</td>\n",
       "      <td>2021-12-01 00:00:03</td>\n",
       "      <td>2021-12-01 00:07:34</td>\n",
       "      <td>State St &amp; Kinzie St</td>\n",
       "      <td>13050</td>\n",
       "      <td>St. Clair St &amp; Erie St</td>\n",
       "      <td>13016</td>\n",
       "      <td>41.889187</td>\n",
       "      <td>...</td>\n",
       "      <td>2021-12-01 00:07:34</td>\n",
       "      <td>0 days 00:07:31</td>\n",
       "      <td>2021-12-01</td>\n",
       "      <td>2</td>\n",
       "      <td>2.660638e-05</td>\n",
       "      <td>0.000025</td>\n",
       "      <td>0.007153</td>\n",
       "      <td>2021</td>\n",
       "      <td>12</td>\n",
       "      <td>0 days 00:07:31</td>\n",
       "    </tr>\n",
       "    <tr>\n",
       "      <th>1</th>\n",
       "      <td>73536</td>\n",
       "      <td>5CB387082B4310B2</td>\n",
       "      <td>classic_bike</td>\n",
       "      <td>2021-12-01 00:03:44</td>\n",
       "      <td>2021-12-01 00:07:44</td>\n",
       "      <td>Ellis Ave &amp; 60th St</td>\n",
       "      <td>KA1503000014</td>\n",
       "      <td>University Ave &amp; 57th St</td>\n",
       "      <td>KA1503000071</td>\n",
       "      <td>41.785097</td>\n",
       "      <td>...</td>\n",
       "      <td>2021-12-01 00:07:44</td>\n",
       "      <td>0 days 00:04:00</td>\n",
       "      <td>2021-12-01</td>\n",
       "      <td>2</td>\n",
       "      <td>4.071529e-05</td>\n",
       "      <td>0.000001</td>\n",
       "      <td>0.006495</td>\n",
       "      <td>2021</td>\n",
       "      <td>12</td>\n",
       "      <td>0 days 00:04:00</td>\n",
       "    </tr>\n",
       "    <tr>\n",
       "      <th>2</th>\n",
       "      <td>13280</td>\n",
       "      <td>A8830C276991FBBC</td>\n",
       "      <td>classic_bike</td>\n",
       "      <td>2021-12-01 00:04:31</td>\n",
       "      <td>2021-12-01 00:07:37</td>\n",
       "      <td>Lake Park Ave &amp; 47th St</td>\n",
       "      <td>TA1308000035</td>\n",
       "      <td>Greenwood Ave &amp; 47th St</td>\n",
       "      <td>TA1308000002</td>\n",
       "      <td>41.809443</td>\n",
       "      <td>...</td>\n",
       "      <td>2021-12-01 00:07:37</td>\n",
       "      <td>0 days 00:03:06</td>\n",
       "      <td>2021-12-01</td>\n",
       "      <td>2</td>\n",
       "      <td>1.536640e-07</td>\n",
       "      <td>0.000056</td>\n",
       "      <td>0.007518</td>\n",
       "      <td>2021</td>\n",
       "      <td>12</td>\n",
       "      <td>0 days 00:03:06</td>\n",
       "    </tr>\n",
       "    <tr>\n",
       "      <th>3</th>\n",
       "      <td>65547</td>\n",
       "      <td>5888E624121F3AF1</td>\n",
       "      <td>electric_bike</td>\n",
       "      <td>2021-12-01 00:05:32</td>\n",
       "      <td>2021-12-01 00:19:18</td>\n",
       "      <td>Clark St &amp; Chicago Ave</td>\n",
       "      <td>13303</td>\n",
       "      <td>Ping Tom Park (East)</td>\n",
       "      <td>20260.0</td>\n",
       "      <td>41.896774</td>\n",
       "      <td>...</td>\n",
       "      <td>2021-12-01 00:19:18</td>\n",
       "      <td>0 days 00:13:46</td>\n",
       "      <td>2021-12-01</td>\n",
       "      <td>2</td>\n",
       "      <td>1.352303e-03</td>\n",
       "      <td>0.000001</td>\n",
       "      <td>0.036789</td>\n",
       "      <td>2021</td>\n",
       "      <td>12</td>\n",
       "      <td>0 days 00:13:46</td>\n",
       "    </tr>\n",
       "    <tr>\n",
       "      <th>4</th>\n",
       "      <td>154473</td>\n",
       "      <td>82CE2ACCE16EE094</td>\n",
       "      <td>classic_bike</td>\n",
       "      <td>2021-12-01 00:05:47</td>\n",
       "      <td>2021-12-01 00:32:52</td>\n",
       "      <td>Michigan Ave &amp; Lake St</td>\n",
       "      <td>TA1305000011</td>\n",
       "      <td>DuSable Lake Shore Dr &amp; Diversey Pkwy</td>\n",
       "      <td>TA1309000039</td>\n",
       "      <td>41.886024</td>\n",
       "      <td>...</td>\n",
       "      <td>2021-12-01 00:32:52</td>\n",
       "      <td>0 days 00:27:05</td>\n",
       "      <td>2021-12-01</td>\n",
       "      <td>2</td>\n",
       "      <td>2.168206e-03</td>\n",
       "      <td>0.000152</td>\n",
       "      <td>0.048164</td>\n",
       "      <td>2021</td>\n",
       "      <td>12</td>\n",
       "      <td>0 days 00:27:05</td>\n",
       "    </tr>\n",
       "    <tr>\n",
       "      <th>...</th>\n",
       "      <td>...</td>\n",
       "      <td>...</td>\n",
       "      <td>...</td>\n",
       "      <td>...</td>\n",
       "      <td>...</td>\n",
       "      <td>...</td>\n",
       "      <td>...</td>\n",
       "      <td>...</td>\n",
       "      <td>...</td>\n",
       "      <td>...</td>\n",
       "      <td>...</td>\n",
       "      <td>...</td>\n",
       "      <td>...</td>\n",
       "      <td>...</td>\n",
       "      <td>...</td>\n",
       "      <td>...</td>\n",
       "      <td>...</td>\n",
       "      <td>...</td>\n",
       "      <td>...</td>\n",
       "      <td>...</td>\n",
       "      <td>...</td>\n",
       "    </tr>\n",
       "    <tr>\n",
       "      <th>4410323</th>\n",
       "      <td>2162</td>\n",
       "      <td>FDB69DF74922162E</td>\n",
       "      <td>classic_bike</td>\n",
       "      <td>2022-11-30 23:53:00</td>\n",
       "      <td>2022-12-01 00:03:58</td>\n",
       "      <td>Desplaines St &amp; Kinzie St</td>\n",
       "      <td>TA1306000003</td>\n",
       "      <td>Eckhart Park</td>\n",
       "      <td>13289</td>\n",
       "      <td>41.888716</td>\n",
       "      <td>...</td>\n",
       "      <td>2022-12-01 00:03:58</td>\n",
       "      <td>0 days 00:10:58</td>\n",
       "      <td>2022-11-30</td>\n",
       "      <td>2</td>\n",
       "      <td>5.863476e-05</td>\n",
       "      <td>0.000273</td>\n",
       "      <td>0.018223</td>\n",
       "      <td>2022</td>\n",
       "      <td>11</td>\n",
       "      <td>0 days 00:10:58</td>\n",
       "    </tr>\n",
       "    <tr>\n",
       "      <th>4410324</th>\n",
       "      <td>180458</td>\n",
       "      <td>CB5ECCA9D1567A45</td>\n",
       "      <td>electric_bike</td>\n",
       "      <td>2022-11-30 23:54:40</td>\n",
       "      <td>2022-11-30 23:58:59</td>\n",
       "      <td>State St &amp; Van Buren St</td>\n",
       "      <td>TA1305000035</td>\n",
       "      <td>Michigan Ave &amp; 14th St</td>\n",
       "      <td>TA1307000124</td>\n",
       "      <td>41.877238</td>\n",
       "      <td>...</td>\n",
       "      <td>2022-11-30 23:58:59</td>\n",
       "      <td>0 days 00:04:19</td>\n",
       "      <td>2022-11-30</td>\n",
       "      <td>2</td>\n",
       "      <td>1.736901e-04</td>\n",
       "      <td>0.000017</td>\n",
       "      <td>0.013801</td>\n",
       "      <td>2022</td>\n",
       "      <td>11</td>\n",
       "      <td>0 days 00:04:19</td>\n",
       "    </tr>\n",
       "    <tr>\n",
       "      <th>4410325</th>\n",
       "      <td>177330</td>\n",
       "      <td>0A7F3F32FCC736D1</td>\n",
       "      <td>classic_bike</td>\n",
       "      <td>2022-11-30 23:55:02</td>\n",
       "      <td>2022-12-01 00:21:10</td>\n",
       "      <td>McClurg Ct &amp; Ohio St</td>\n",
       "      <td>TA1306000029</td>\n",
       "      <td>Sheffield Ave &amp; Fullerton Ave</td>\n",
       "      <td>TA1306000016</td>\n",
       "      <td>41.892592</td>\n",
       "      <td>...</td>\n",
       "      <td>2022-12-01 00:21:10</td>\n",
       "      <td>0 days 00:26:08</td>\n",
       "      <td>2022-11-30</td>\n",
       "      <td>2</td>\n",
       "      <td>1.089644e-03</td>\n",
       "      <td>0.001326</td>\n",
       "      <td>0.049153</td>\n",
       "      <td>2022</td>\n",
       "      <td>11</td>\n",
       "      <td>0 days 00:26:08</td>\n",
       "    </tr>\n",
       "    <tr>\n",
       "      <th>4410326</th>\n",
       "      <td>16514</td>\n",
       "      <td>C32D3E0585F38636</td>\n",
       "      <td>electric_bike</td>\n",
       "      <td>2022-11-30 23:55:28</td>\n",
       "      <td>2022-11-30 23:59:46</td>\n",
       "      <td>Broadway &amp; Cornelia Ave</td>\n",
       "      <td>13278</td>\n",
       "      <td>Clarendon Ave &amp; Gordon Ter</td>\n",
       "      <td>13379</td>\n",
       "      <td>41.945466</td>\n",
       "      <td>...</td>\n",
       "      <td>2022-11-30 23:59:46</td>\n",
       "      <td>0 days 00:04:18</td>\n",
       "      <td>2022-11-30</td>\n",
       "      <td>2</td>\n",
       "      <td>1.537838e-04</td>\n",
       "      <td>0.000010</td>\n",
       "      <td>0.012798</td>\n",
       "      <td>2022</td>\n",
       "      <td>11</td>\n",
       "      <td>0 days 00:04:18</td>\n",
       "    </tr>\n",
       "    <tr>\n",
       "      <th>4410327</th>\n",
       "      <td>337271</td>\n",
       "      <td>F6BE77C9DC9AB3BC</td>\n",
       "      <td>electric_bike</td>\n",
       "      <td>2022-11-30 23:56:11</td>\n",
       "      <td>2022-12-01 00:00:52</td>\n",
       "      <td>Clark St &amp; Winnemac Ave</td>\n",
       "      <td>TA1309000035</td>\n",
       "      <td>Broadway &amp; Ridge Ave</td>\n",
       "      <td>15578</td>\n",
       "      <td>41.973391</td>\n",
       "      <td>...</td>\n",
       "      <td>2022-12-01 00:00:52</td>\n",
       "      <td>0 days 00:04:41</td>\n",
       "      <td>2022-11-30</td>\n",
       "      <td>2</td>\n",
       "      <td>1.134957e-04</td>\n",
       "      <td>0.000056</td>\n",
       "      <td>0.013022</td>\n",
       "      <td>2022</td>\n",
       "      <td>11</td>\n",
       "      <td>0 days 00:04:41</td>\n",
       "    </tr>\n",
       "  </tbody>\n",
       "</table>\n",
       "<p>4410328 rows × 25 columns</p>\n",
       "</div>"
      ],
      "text/plain": [
       "         Unnamed: 0           ride_id  rideable_type           started_at  \\\n",
       "0            182646  0CD83C3FE35E69A0   classic_bike  2021-12-01 00:00:03   \n",
       "1             73536  5CB387082B4310B2   classic_bike  2021-12-01 00:03:44   \n",
       "2             13280  A8830C276991FBBC   classic_bike  2021-12-01 00:04:31   \n",
       "3             65547  5888E624121F3AF1  electric_bike  2021-12-01 00:05:32   \n",
       "4            154473  82CE2ACCE16EE094   classic_bike  2021-12-01 00:05:47   \n",
       "...             ...               ...            ...                  ...   \n",
       "4410323        2162  FDB69DF74922162E   classic_bike  2022-11-30 23:53:00   \n",
       "4410324      180458  CB5ECCA9D1567A45  electric_bike  2022-11-30 23:54:40   \n",
       "4410325      177330  0A7F3F32FCC736D1   classic_bike  2022-11-30 23:55:02   \n",
       "4410326       16514  C32D3E0585F38636  electric_bike  2022-11-30 23:55:28   \n",
       "4410327      337271  F6BE77C9DC9AB3BC  electric_bike  2022-11-30 23:56:11   \n",
       "\n",
       "                    ended_at         start_station_name start_station_id  \\\n",
       "0        2021-12-01 00:07:34       State St & Kinzie St            13050   \n",
       "1        2021-12-01 00:07:44        Ellis Ave & 60th St     KA1503000014   \n",
       "2        2021-12-01 00:07:37    Lake Park Ave & 47th St     TA1308000035   \n",
       "3        2021-12-01 00:19:18     Clark St & Chicago Ave            13303   \n",
       "4        2021-12-01 00:32:52     Michigan Ave & Lake St     TA1305000011   \n",
       "...                      ...                        ...              ...   \n",
       "4410323  2022-12-01 00:03:58  Desplaines St & Kinzie St     TA1306000003   \n",
       "4410324  2022-11-30 23:58:59    State St & Van Buren St     TA1305000035   \n",
       "4410325  2022-12-01 00:21:10       McClurg Ct & Ohio St     TA1306000029   \n",
       "4410326  2022-11-30 23:59:46    Broadway & Cornelia Ave            13278   \n",
       "4410327  2022-12-01 00:00:52    Clark St & Winnemac Ave     TA1309000035   \n",
       "\n",
       "                              end_station_name end_station_id  start_lat  ...  \\\n",
       "0                       St. Clair St & Erie St          13016  41.889187  ...   \n",
       "1                     University Ave & 57th St   KA1503000071  41.785097  ...   \n",
       "2                      Greenwood Ave & 47th St   TA1308000002  41.809443  ...   \n",
       "3                         Ping Tom Park (East)        20260.0  41.896774  ...   \n",
       "4        DuSable Lake Shore Dr & Diversey Pkwy   TA1309000039  41.886024  ...   \n",
       "...                                        ...            ...        ...  ...   \n",
       "4410323                           Eckhart Park          13289  41.888716  ...   \n",
       "4410324                 Michigan Ave & 14th St   TA1307000124  41.877238  ...   \n",
       "4410325          Sheffield Ave & Fullerton Ave   TA1306000016  41.892592  ...   \n",
       "4410326             Clarendon Ave & Gordon Ter          13379  41.945466  ...   \n",
       "4410327                   Broadway & Ridge Ave          15578  41.973391  ...   \n",
       "\n",
       "                    end_time      ride_length  start_date1 week_day  \\\n",
       "0        2021-12-01 00:07:34  0 days 00:07:31   2021-12-01        2   \n",
       "1        2021-12-01 00:07:44  0 days 00:04:00   2021-12-01        2   \n",
       "2        2021-12-01 00:07:37  0 days 00:03:06   2021-12-01        2   \n",
       "3        2021-12-01 00:19:18  0 days 00:13:46   2021-12-01        2   \n",
       "4        2021-12-01 00:32:52  0 days 00:27:05   2021-12-01        2   \n",
       "...                      ...              ...          ...      ...   \n",
       "4410323  2022-12-01 00:03:58  0 days 00:10:58   2022-11-30        2   \n",
       "4410324  2022-11-30 23:58:59  0 days 00:04:19   2022-11-30        2   \n",
       "4410325  2022-12-01 00:21:10  0 days 00:26:08   2022-11-30        2   \n",
       "4410326  2022-11-30 23:59:46  0 days 00:04:18   2022-11-30        2   \n",
       "4410327  2022-12-01 00:00:52  0 days 00:04:41   2022-11-30        2   \n",
       "\n",
       "                    x         y  distance  year  month        ride_len  \n",
       "0        2.660638e-05  0.000025  0.007153  2021     12 0 days 00:07:31  \n",
       "1        4.071529e-05  0.000001  0.006495  2021     12 0 days 00:04:00  \n",
       "2        1.536640e-07  0.000056  0.007518  2021     12 0 days 00:03:06  \n",
       "3        1.352303e-03  0.000001  0.036789  2021     12 0 days 00:13:46  \n",
       "4        2.168206e-03  0.000152  0.048164  2021     12 0 days 00:27:05  \n",
       "...               ...       ...       ...   ...    ...             ...  \n",
       "4410323  5.863476e-05  0.000273  0.018223  2022     11 0 days 00:10:58  \n",
       "4410324  1.736901e-04  0.000017  0.013801  2022     11 0 days 00:04:19  \n",
       "4410325  1.089644e-03  0.001326  0.049153  2022     11 0 days 00:26:08  \n",
       "4410326  1.537838e-04  0.000010  0.012798  2022     11 0 days 00:04:18  \n",
       "4410327  1.134957e-04  0.000056  0.013022  2022     11 0 days 00:04:41  \n",
       "\n",
       "[4410328 rows x 25 columns]"
      ]
     },
     "execution_count": 41,
     "metadata": {},
     "output_type": "execute_result"
    }
   ],
   "source": [
    "cleaned_file"
   ]
  },
  {
   "cell_type": "code",
   "execution_count": 42,
   "id": "f7236a04",
   "metadata": {},
   "outputs": [],
   "source": [
    "# To extract important features of the dataframe into a new dataframe\n",
    "final_file = cleaned_file[[\"ride_id\", \"rideable_type\", \"ride_len\", \"week_day\", \"distance\", \"year\", \"month\", \"member_casual\"]]"
   ]
  },
  {
   "cell_type": "code",
   "execution_count": 43,
   "id": "e2785ac1",
   "metadata": {},
   "outputs": [
    {
     "name": "stdout",
     "output_type": "stream",
     "text": [
      "<class 'pandas.core.frame.DataFrame'>\n",
      "RangeIndex: 4410328 entries, 0 to 4410327\n",
      "Data columns (total 8 columns):\n",
      " #   Column         Dtype          \n",
      "---  ------         -----          \n",
      " 0   ride_id        object         \n",
      " 1   rideable_type  object         \n",
      " 2   ride_len       timedelta64[ns]\n",
      " 3   week_day       int64          \n",
      " 4   distance       float64        \n",
      " 5   year           int64          \n",
      " 6   month          int64          \n",
      " 7   member_casual  object         \n",
      "dtypes: float64(1), int64(3), object(3), timedelta64[ns](1)\n",
      "memory usage: 269.2+ MB\n"
     ]
    }
   ],
   "source": [
    "# To get the information of the dataframe\n",
    "final_file.info()"
   ]
  },
  {
   "cell_type": "markdown",
   "id": "30c91b75",
   "metadata": {},
   "source": [
    "# Data Analysis"
   ]
  },
  {
   "cell_type": "code",
   "execution_count": 44,
   "id": "821237e0",
   "metadata": {},
   "outputs": [
    {
     "data": {
      "text/plain": [
       "member    2638568\n",
       "casual    1771760\n",
       "Name: member_casual, dtype: int64"
      ]
     },
     "execution_count": 44,
     "metadata": {},
     "output_type": "execute_result"
    }
   ],
   "source": [
    "# To check the number of users in each type over past 12 months\n",
    "member_type = final_file[\"member_casual\"].value_counts()\n",
    "member_type"
   ]
  },
  {
   "cell_type": "code",
   "execution_count": 45,
   "id": "c88e6847",
   "metadata": {},
   "outputs": [
    {
     "data": {
      "image/png": "[encoded data removed]",
      "text/plain": [
       "<Figure size 640x480 with 1 Axes>"
      ]
     },
     "metadata": {},
     "output_type": "display_data"
    }
   ],
   "source": [
    "# To plot the count plot of users in each type\n",
    "plt.title(\"count of users in each type\")\n",
    "plt.bar(member_type.index, member_type.values)\n",
    "plt.show()"
   ]
  },
  {
   "cell_type": "code",
   "execution_count": 46,
   "id": "6032ed88",
   "metadata": {},
   "outputs": [
    {
     "data": {
      "image/png": "[encoded data removed]",
      "text/plain": [
       "<Figure size 800x600 with 1 Axes>"
      ]
     },
     "metadata": {},
     "output_type": "display_data"
    }
   ],
   "source": [
    "# To plot the pie chart of users in each type\n",
    "plt.figure(figsize = (8,6))\n",
    "plt.pie(member_type.values, labels = member_type.index, autopct='%1.1f%%')\n",
    "plt.title(\"Percentage of users in each type\")\n",
    "plt.legend(member_type.index)\n",
    "plt.show()"
   ]
  },
  {
   "cell_type": "code",
   "execution_count": 47,
   "id": "2b44e169",
   "metadata": {},
   "outputs": [
    {
     "data": {
      "text/plain": [
       "year  member_casual\n",
       "2021  member            131295\n",
       "      casual             45076\n",
       "2022  member           2507273\n",
       "      casual           1726684\n",
       "Name: member_casual, dtype: int64"
      ]
     },
     "execution_count": 47,
     "metadata": {},
     "output_type": "execute_result"
    }
   ],
   "source": [
    "# To check the number of users over years\n",
    "users_over_year = final_file.groupby('year')['member_casual'].value_counts()\n",
    "users_over_year"
   ]
  },
  {
   "cell_type": "code",
   "execution_count": 48,
   "id": "19e15cb6",
   "metadata": {},
   "outputs": [],
   "source": [
    "# To segregate the number of users into member or casual riders over the years\n",
    "list_year = []\n",
    "list_x = []\n",
    "list_y = list(users_over_year.values)\n",
    "for i, j in users_over_year.index:\n",
    "  list_x.append(j)\n",
    "  list_year.append(str(i))"
   ]
  },
  {
   "cell_type": "code",
   "execution_count": 49,
   "id": "9d10d1f9",
   "metadata": {},
   "outputs": [
    {
     "name": "stderr",
     "output_type": "stream",
     "text": [
      "C:\\Users\\Daniel\\anaconda3\\lib\\site-packages\\seaborn\\_decorators.py:36: FutureWarning: Pass the following variables as keyword args: x, y. From version 0.12, the only valid positional argument will be `data`, and passing other arguments without an explicit keyword will result in an error or misinterpretation.\n",
      "  warnings.warn(\n"
     ]
    },
    {
     "data": {
      "text/plain": [
       "Text(0.5, 1.0, 'Count of Member and Casual Riders over the years')"
      ]
     },
     "execution_count": 49,
     "metadata": {},
     "output_type": "execute_result"
    },
    {
     "data": {
      "image/png": "[encoded data removed]",
      "text/plain": [
       "<Figure size 640x480 with 1 Axes>"
      ]
     },
     "metadata": {},
     "output_type": "display_data"
    }
   ],
   "source": [
    "sns.barplot(list_x, list_y, hue = list_year)\n",
    "plt.title(\"Count of Member and Casual Riders over the years\")"
   ]
  },
  {
   "cell_type": "code",
   "execution_count": 50,
   "id": "dae8be22",
   "metadata": {},
   "outputs": [
    {
     "data": {
      "text/plain": [
       "month  member_casual\n",
       "1      member            67523\n",
       "       casual            12605\n",
       "2      member            74034\n",
       "       casual            15144\n",
       "3      member           148827\n",
       "       casual            67156\n",
       "4      member           180663\n",
       "       casual            91897\n",
       "5      member           282299\n",
       "       casual           220246\n",
       "6      member           328282\n",
       "       casual           292068\n",
       "7      member           331002\n",
       "       casual           311678\n",
       "8      member           335230\n",
       "       casual           270095\n",
       "9      member           314230\n",
       "       casual           220915\n",
       "10     member           262945\n",
       "       casual           151324\n",
       "11     member           182238\n",
       "       casual            73556\n",
       "12     member           131295\n",
       "       casual            45076\n",
       "Name: member_casual, dtype: int64"
      ]
     },
     "execution_count": 50,
     "metadata": {},
     "output_type": "execute_result"
    }
   ],
   "source": [
    "# To check the number of users over months\n",
    "users_over_month = final_file.groupby('month')['member_casual'].value_counts()\n",
    "users_over_month"
   ]
  },
  {
   "cell_type": "code",
   "execution_count": 51,
   "id": "569eb7c5",
   "metadata": {},
   "outputs": [],
   "source": [
    "# To segregate the number of users into member or casual riders over the months\n",
    "list_month = []\n",
    "list_x = []\n",
    "list_y = list(users_over_month.values)\n",
    "for i, j in users_over_month.index:\n",
    "  list_x.append(j)\n",
    "  list_month.append(str(i))"
   ]
  },
  {
   "cell_type": "code",
   "execution_count": 52,
   "id": "7645a19c",
   "metadata": {},
   "outputs": [
    {
     "name": "stderr",
     "output_type": "stream",
     "text": [
      "C:\\Users\\Daniel\\anaconda3\\lib\\site-packages\\seaborn\\_decorators.py:36: FutureWarning: Pass the following variables as keyword args: x, y. From version 0.12, the only valid positional argument will be `data`, and passing other arguments without an explicit keyword will result in an error or misinterpretation.\n",
      "  warnings.warn(\n"
     ]
    },
    {
     "data": {
      "text/plain": [
       "Text(0.5, 1.0, 'Count of Member and Casual Riders over the months')"
      ]
     },
     "execution_count": 52,
     "metadata": {},
     "output_type": "execute_result"
    },
    {
     "data": {
      "image/png": "[encoded data removed]",
      "text/plain": [
       "<Figure size 1800x800 with 1 Axes>"
      ]
     },
     "metadata": {},
     "output_type": "display_data"
    }
   ],
   "source": [
    "# Plot count of Member and Casual Riders over the months\n",
    "plt.figure(figsize = (18,8))\n",
    "sns.barplot(list_x, list_y, hue = list_month)\n",
    "plt.title(\"Count of Member and Casual Riders over the months\")"
   ]
  },
  {
   "cell_type": "code",
   "execution_count": 53,
   "id": "4304b48c",
   "metadata": {},
   "outputs": [
    {
     "data": {
      "text/plain": [
       "member_casual  rideable_type\n",
       "casual         classic_bike      895866\n",
       "               electric_bike     698030\n",
       "               docked_bike       177864\n",
       "member         classic_bike     1728561\n",
       "               electric_bike     910007\n",
       "Name: rideable_type, dtype: int64"
      ]
     },
     "execution_count": 53,
     "metadata": {},
     "output_type": "execute_result"
    }
   ],
   "source": [
    "# To check the number of users for a particulat rideable_type\n",
    "ride_type = final_file.groupby(\"member_casual\")[\"rideable_type\"].value_counts()\n",
    "ride_type"
   ]
  },
  {
   "cell_type": "code",
   "execution_count": 54,
   "id": "418e0167",
   "metadata": {},
   "outputs": [],
   "source": [
    "# To segregate the number of users into member or casual riders based on ride type\n",
    "list_member = []\n",
    "list_x = []\n",
    "list_y = list(ride_type.values)\n",
    "for i, j in ride_type.index:\n",
    "  list_x.append(j)\n",
    "  list_member.append(str(i))"
   ]
  },
  {
   "cell_type": "code",
   "execution_count": 55,
   "id": "70eeed85",
   "metadata": {},
   "outputs": [
    {
     "name": "stderr",
     "output_type": "stream",
     "text": [
      "C:\\Users\\Daniel\\anaconda3\\lib\\site-packages\\seaborn\\_decorators.py:36: FutureWarning: Pass the following variables as keyword args: x, y. From version 0.12, the only valid positional argument will be `data`, and passing other arguments without an explicit keyword will result in an error or misinterpretation.\n",
      "  warnings.warn(\n"
     ]
    },
    {
     "data": {
      "text/plain": [
       "Text(0.5, 1.0, 'Count of Member and Casual Riders over the months')"
      ]
     },
     "execution_count": 55,
     "metadata": {},
     "output_type": "execute_result"
    },
    {
     "data": {
      "image/png": "[encoded data removed]",
      "text/plain": [
       "<Figure size 1800x800 with 1 Axes>"
      ]
     },
     "metadata": {},
     "output_type": "display_data"
    }
   ],
   "source": [
    "# To plot number of users into member or casual riders based on ride type\n",
    "plt.figure(figsize = (18,8))\n",
    "sns.barplot(list_x, list_y, hue = list_member)\n",
    "plt.title(\"Count of Member and Casual Riders over the months\")"
   ]
  },
  {
   "cell_type": "code",
   "execution_count": null,
   "id": "57b526f7",
   "metadata": {},
   "outputs": [],
   "source": []
  }
 ],
 "metadata": {
  "kernelspec": {
   "display_name": "Python 3 (ipykernel)",
   "language": "python",
   "name": "python3"
  },
  "language_info": {
   "codemirror_mode": {
    "name": "ipython",
    "version": 3
   },
   "file_extension": ".py",
   "mimetype": "text/x-python",
   "name": "python",
   "nbconvert_exporter": "python",
   "pygments_lexer": "ipython3",
   "version": "3.9.13"
  }
 },
 "nbformat": 4,
 "nbformat_minor": 5
}
